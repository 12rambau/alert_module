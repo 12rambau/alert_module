{
 "cells": [
  {
   "cell_type": "code",
   "execution_count": 1,
   "metadata": {},
   "outputs": [],
   "source": [
    "%run 'AOI_selector.ipynb'\n",
    "%run 'GEE_process_UI.ipynb'\n",
    "%run 'SEPAL_process_UI.ipynb'"
   ]
  },
  {
   "cell_type": "code",
   "execution_count": 3,
   "metadata": {},
   "outputs": [
    {
     "data": {
      "application/vnd.jupyter.widget-view+json": {
       "model_id": "1d29564e898144ac8a7d07c7878c82ae",
       "version_major": 2,
       "version_minor": 0
      },
      "text/plain": [
       "App(children=[NavigationDrawer(app=True, children=[List(children=[ListItem(children=[ListItemAction(children=[…"
      ]
     },
     "metadata": {},
     "output_type": "display_data"
    }
   ],
   "source": [
    "import ipyvuetify as v\n",
    "\n",
    "app = v.App(v_model=None)\n",
    "\n",
    "navDrawer = v.NavigationDrawer(\n",
    "    v_model=True, \n",
    "    app= True,\n",
    "    children=[\n",
    "        v.List(\n",
    "            dense=True,\n",
    "            children=[\n",
    "                v.ListItem(\n",
    "                    link=True,\n",
    "                    children=[\n",
    "                        v.ListItemAction(children=[v.Icon(children=['mdi-map-marker-check'])]),\n",
    "                        v.ListItemContent(children=[v.ListItemTitle(children=['STEP 1: AOI selection'])])\n",
    "                    ]\n",
    "                ),\n",
    "                v.ListItem(\n",
    "                    link=True,\n",
    "                    children=[\n",
    "                        v.ListItemAction(children=[v.Icon(children=['mdi-cogs'])]),\n",
    "                        v.ListItemContent(children=[v.ListItemTitle(children=['STEP 2: GEE Process'])])\n",
    "                    ]\n",
    "                ),\n",
    "                v.ListItem(\n",
    "                    link=True,\n",
    "                    children=[\n",
    "                        v.ListItemAction(children=[v.Icon(children=['mdi-cogs'])]),\n",
    "                        v.ListItemContent(children=[v.ListItemTitle(children=['STEP 3: SEPAL PRocess'])])\n",
    "                    ]\n",
    "                ),\n",
    "                v.ListItem(\n",
    "                    link=True,\n",
    "                    children=[\n",
    "                        v.ListItemAction(children=[v.Icon(children=['mdi-help-circle'])]),\n",
    "                        v.ListItemContent(children=[v.ListItemTitle(children=['About'])])\n",
    "                    ]\n",
    "                )\n",
    "                \n",
    "            ]\n",
    "        )\n",
    "    ]\n",
    ")\n",
    "\n",
    "#navDrawer.width =300\n",
    "#navDrawer.mini_variant_width = 30\n",
    "\n",
    "toolBarButton = v.Btn(\n",
    "    icon = True, \n",
    "    children=[\n",
    "        v.Icon(children=['mdi-dots-vertical'])\n",
    "    ]\n",
    ")\n",
    "\n",
    "def on_click(widget, event, data):\n",
    "    navDrawer.v_model = not navDrawer.v_model\n",
    "\n",
    "toolBarButton.on_event('click', on_click)\n",
    "\n",
    "\n",
    "appBar = v.AppBar(\n",
    "    color=\"teal\",\n",
    "    dense=True,\n",
    "    app = True,\n",
    "    children = [\n",
    "        toolBarButton, \n",
    "        v.ToolbarTitle(children=['GLAD alert process']),\n",
    "    ]\n",
    ")\n",
    "\n",
    "content = v.Content(\n",
    "    children=[\n",
    "        v.Container(\n",
    "            fluid=True,\n",
    "            children = [\n",
    "                AOI_content_main, \n",
    "                v.Row(xs12=True,children=[GEE_content_main, SEPAL_content_main])\n",
    "            ]\n",
    "        )\n",
    "    ]\n",
    ")\n",
    "\n",
    "drawersWithContent = v.Container(\n",
    "    class_=\"fill-height\",\n",
    "    children = [\n",
    "        v.Row(\n",
    "            align=\"top\",\n",
    "            justify=\"left\",\n",
    "            children = [navDrawer,content]\n",
    "        )\n",
    "    ]\n",
    ")\n",
    "\n",
    "footer = v.Footer(\n",
    "    color='teal',\n",
    "    app = True,\n",
    "    children = ['SEPAL 2020']\n",
    ")\n",
    "\n",
    "app.children = [navDrawer, appBar, content, footer]\n",
    "app"
   ]
  },
  {
   "cell_type": "code",
   "execution_count": null,
   "metadata": {},
   "outputs": [],
   "source": []
  }
 ],
 "metadata": {
  "kernelspec": {
   "display_name": "Python 3",
   "language": "python",
   "name": "python3"
  },
  "language_info": {
   "codemirror_mode": {
    "name": "ipython",
    "version": 3
   },
   "file_extension": ".py",
   "mimetype": "text/x-python",
   "name": "python",
   "nbconvert_exporter": "python",
   "pygments_lexer": "ipython3",
   "version": "3.6.9"
  }
 },
 "nbformat": 4,
 "nbformat_minor": 4
}
