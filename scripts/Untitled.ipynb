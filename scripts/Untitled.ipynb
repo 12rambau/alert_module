{
 "cells": [
  {
   "cell_type": "code",
   "execution_count": 11,
   "metadata": {},
   "outputs": [],
   "source": [
    "from matplotlib import pyplot as plt\n",
    "import pandas as pd\n",
    "import numpy as np"
   ]
  },
  {
   "cell_type": "code",
   "execution_count": 12,
   "metadata": {},
   "outputs": [
    {
     "data": {
      "text/html": [
       "<div>\n",
       "<style scoped>\n",
       "    .dataframe tbody tr th:only-of-type {\n",
       "        vertical-align: middle;\n",
       "    }\n",
       "\n",
       "    .dataframe tbody tr th {\n",
       "        vertical-align: top;\n",
       "    }\n",
       "\n",
       "    .dataframe thead th {\n",
       "        text-align: right;\n",
       "    }\n",
       "</style>\n",
       "<table border=\"1\" class=\"dataframe\">\n",
       "  <thead>\n",
       "    <tr style=\"text-align: right;\">\n",
       "      <th></th>\n",
       "      <th>patchId</th>\n",
       "      <th>nb_pixel</th>\n",
       "      <th>value</th>\n",
       "    </tr>\n",
       "  </thead>\n",
       "  <tbody>\n",
       "    <tr>\n",
       "      <th>0</th>\n",
       "      <td>25813</td>\n",
       "      <td>1</td>\n",
       "      <td>3</td>\n",
       "    </tr>\n",
       "    <tr>\n",
       "      <th>1</th>\n",
       "      <td>101318</td>\n",
       "      <td>1</td>\n",
       "      <td>3</td>\n",
       "    </tr>\n",
       "    <tr>\n",
       "      <th>2</th>\n",
       "      <td>139742</td>\n",
       "      <td>1</td>\n",
       "      <td>3</td>\n",
       "    </tr>\n",
       "    <tr>\n",
       "      <th>3</th>\n",
       "      <td>148262</td>\n",
       "      <td>2</td>\n",
       "      <td>3</td>\n",
       "    </tr>\n",
       "    <tr>\n",
       "      <th>4</th>\n",
       "      <td>154972</td>\n",
       "      <td>1</td>\n",
       "      <td>3</td>\n",
       "    </tr>\n",
       "    <tr>\n",
       "      <th>...</th>\n",
       "      <td>...</td>\n",
       "      <td>...</td>\n",
       "      <td>...</td>\n",
       "    </tr>\n",
       "    <tr>\n",
       "      <th>208</th>\n",
       "      <td>1124475</td>\n",
       "      <td>1</td>\n",
       "      <td>3</td>\n",
       "    </tr>\n",
       "    <tr>\n",
       "      <th>209</th>\n",
       "      <td>1124507</td>\n",
       "      <td>1</td>\n",
       "      <td>3</td>\n",
       "    </tr>\n",
       "    <tr>\n",
       "      <th>210</th>\n",
       "      <td>1140959</td>\n",
       "      <td>1</td>\n",
       "      <td>3</td>\n",
       "    </tr>\n",
       "    <tr>\n",
       "      <th>211</th>\n",
       "      <td>1219433</td>\n",
       "      <td>1</td>\n",
       "      <td>3</td>\n",
       "    </tr>\n",
       "    <tr>\n",
       "      <th>212</th>\n",
       "      <td>1675786</td>\n",
       "      <td>1</td>\n",
       "      <td>3</td>\n",
       "    </tr>\n",
       "  </tbody>\n",
       "</table>\n",
       "<p>213 rows × 3 columns</p>\n",
       "</div>"
      ],
      "text/plain": [
       "     patchId  nb_pixel  value\n",
       "0      25813         1      3\n",
       "1     101318         1      3\n",
       "2     139742         1      3\n",
       "3     148262         2      3\n",
       "4     154972         1      3\n",
       "..       ...       ...    ...\n",
       "208  1124475         1      3\n",
       "209  1124507         1      3\n",
       "210  1140959         1      3\n",
       "211  1219433         1      3\n",
       "212  1675786         1      3\n",
       "\n",
       "[213 rows x 3 columns]"
      ]
     },
     "execution_count": 12,
     "metadata": {},
     "output_type": "execute_result"
    }
   ],
   "source": [
    "df = pd.read_csv('~/alerts_results/SGP/SGP_2019-01-01_2019-12-31_glad_stats.txt')\n",
    "df"
   ]
  },
  {
   "cell_type": "code",
   "execution_count": 27,
   "metadata": {},
   "outputs": [
    {
     "data": {
      "image/png": "[encoded data removed]",
      "text/plain": [
       "<Figure size 720x720 with 1 Axes>"
      ]
     },
     "metadata": {},
     "output_type": "display_data"
    }
   ],
   "source": [
    "values = {'confirmed alerts': 3, 'potential alerts': 2}\n",
    "    \n",
    "y_ = []\n",
    "max_ = 0\n",
    "for index, name in enumerate(values): \n",
    "        \n",
    "    #load the patches\n",
    "    y_local = df[df['value'] == values[name]]['nb_pixel'].to_numpy()\n",
    "    y_local = np.append(y_local, 0) #add the 0 to prevent bugs when there are no data (2017 for ex)\n",
    "    max_ = max(max_, np.amax(y_local))\n",
    "        \n",
    "    #add them to the global y_\n",
    "    y_.append(y_local)\n",
    "        \n",
    "fig, ax = plt.subplots(figsize=(10,10))\n",
    "    \n",
    "ax.set_axisbelow(True)\n",
    "ax.yaxis.grid(which='both', linewidth=0.8, color='lightgrey')\n",
    "    \n",
    "ax.hist(y_, label=[*values], weights=y_, color=['#d32f2f', '#ffff00'], bins=30, histtype='bar', stacked=True, edgecolor='black', rwidth=0.8)\n",
    "ax.set_xlim(0, max_)\n",
    "ax.legend(loc='upper right')\n",
    "ax.set_title('SGP alert for year 2019', fontweight=\"bold\")\n",
    "ax.set_yscale('log')\n",
    "ax.set_xlabel('patch size (px)')\n",
    "ax.set_ylabel('number of pixels')\n",
    "\n",
    "plt.style.use('dark_background')\n",
    "ax.set_facecolor((0,0,0,0))\n",
    "fig.set_facecolor((.1,.1,.1))\n",
    "plt.show()"
   ]
  },
  {
   "cell_type": "code",
   "execution_count": 18,
   "metadata": {},
   "outputs": [],
   "source": [
    "plt.style.use('dark_background')"
   ]
  },
  {
   "cell_type": "code",
   "execution_count": null,
   "metadata": {},
   "outputs": [],
   "source": []
  }
 ],
 "metadata": {
  "kernelspec": {
   "display_name": "Python 3",
   "language": "python",
   "name": "python3"
  },
  "language_info": {
   "codemirror_mode": {
    "name": "ipython",
    "version": 3
   },
   "file_extension": ".py",
   "mimetype": "text/x-python",
   "name": "python",
   "nbconvert_exporter": "python",
   "pygments_lexer": "ipython3",
   "version": "3.6.9"
  }
 },
 "nbformat": 4,
 "nbformat_minor": 4
}
