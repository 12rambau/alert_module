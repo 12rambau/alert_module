{
 "cells": [
  {
   "cell_type": "code",
   "execution_count": 13,
   "metadata": {},
   "outputs": [],
   "source": [
    "import ipyvuetify as v\n",
    "import ipywidgets as widgets\n",
    "import csv"
   ]
  },
  {
   "cell_type": "code",
   "execution_count": 14,
   "metadata": {},
   "outputs": [],
   "source": [
    "#input list\n",
    "file_input = None\n",
    "file_name = None\n",
    "country_selection = None\n",
    "drawing_method = None\n",
    "feature_collection = None"
   ]
  },
  {
   "cell_type": "code",
   "execution_count": 15,
   "metadata": {},
   "outputs": [],
   "source": [
    "#output list \n",
    "asset_name = None\n",
    "year = None"
   ]
  },
  {
   "cell_type": "code",
   "execution_count": 16,
   "metadata": {},
   "outputs": [
    {
     "data": {
      "application/vnd.jupyter.widget-view+json": {
       "model_id": "8d659fd7a2b94d60be0764e1476273e0",
       "version_major": 2,
       "version_minor": 0
      },
      "text/plain": [
       "Map(center=[0, 0], controls=(ZoomControl(options=['position', 'zoom_in_text', 'zoom_in_title', 'zoom_out_text'…"
      ]
     },
     "metadata": {},
     "output_type": "display_data"
    }
   ],
   "source": [
    "#map widget\n",
    "from ipyleaflet import (\n",
    "    Map,\n",
    "    Marker,\n",
    "    TileLayer, ImageOverlay,\n",
    "    Polyline, Polygon, Rectangle, Circle, CircleMarker,\n",
    "    GeoJSON,\n",
    "    DrawControl\n",
    ")\n",
    "\n",
    "center = [0, 0]\n",
    "zoom = 1\n",
    "\n",
    "dc = DrawControl(marker={},\n",
    "                 circlemarker={},\n",
    "                 polyline={},\n",
    "                 rectangle={'shapeOptions': {'color': '#0000FF'}},\n",
    "                 circle={'shapeOptions': {'color': '#0000FF'}},\n",
    "                 polygon={'shapeOptions': {'color': '#0000FF'}},\n",
    "                 )\n",
    "\n",
    "feature_collection = {\n",
    "    'type': 'FeatureCollection',\n",
    "    'features': []\n",
    "}\n",
    "def handle_draw(self, action, geo_json):\n",
    "    global feature_collection\n",
    "    feature_collection['features'].append(geo_json)\n",
    "\n",
    "dc.on_draw(handle_draw)\n",
    "\n",
    "m = Map(center=center, zoom=zoom)\n",
    "#m.add_control(dc)\n",
    "m"
   ]
  },
  {
   "cell_type": "code",
   "execution_count": 17,
   "metadata": {},
   "outputs": [
    {
     "data": {
      "application/vnd.jupyter.widget-view+json": {
       "model_id": "2d40b81cc6df4b789962df2515072ad5",
       "version_major": 2,
       "version_minor": 0
      },
      "text/plain": [
       "TextField(class_='d-none', label='select a filename', v_model=None)"
      ]
     },
     "metadata": {},
     "output_type": "display_data"
    }
   ],
   "source": [
    "#import file\n",
    "widget_file_input = v.FileInput(label='select a file', v_model=None, class_=\"d-none\")\n",
    "widget_file_input\n",
    "\n",
    "widget_file_name = v.TextField(label='select a filename', v_model=None, class_=\"d-none\")\n",
    "widget_file_name"
   ]
  },
  {
   "cell_type": "code",
   "execution_count": 6,
   "metadata": {},
   "outputs": [
    {
     "data": {
      "application/vnd.jupyter.widget-view+json": {
       "model_id": "25565bcc258542adb6f53a35fcba287e",
       "version_major": 2,
       "version_minor": 0
      },
      "text/plain": [
       "Select(class_='d-none', items=['Afghanistan', 'Akrotiri', 'Albania', 'Algeria', 'American Samoa', 'Andorra', '…"
      ]
     },
     "metadata": {},
     "output_type": "display_data"
    }
   ],
   "source": [
    "#country boundaries selector \n",
    "def create_FIPS_dic():\n",
    "    \"\"\"create the list of the country code in the FIPS norm using the CSV file provided in utils\"\"\"\n",
    "    fips_dic = {}\n",
    "    with open('../utils/FIPS_code_to_country.csv', newline='') as f:\n",
    "        reader = csv.reader(f, delimiter=';')\n",
    "        for row in reader:\n",
    "            fips_dic[row[1]] = row[0]\n",
    "        \n",
    "    return fips_dic\n",
    "\n",
    "widget_country_selection = v.Select(items=[*create_FIPS_dic()], label='Country/Province', v_model=None, class_=\"d-none\")\n",
    "widget_country_selection"
   ]
  },
  {
   "cell_type": "code",
   "execution_count": 7,
   "metadata": {},
   "outputs": [
    {
     "data": {
      "application/vnd.jupyter.widget-view+json": {
       "model_id": "67eaaba148a7429d8866a95f385264ec",
       "version_major": 2,
       "version_minor": 0
      },
      "text/plain": [
       "Select(items=[2020, 2019], label='Select a year', v_model=None)"
      ]
     },
     "metadata": {},
     "output_type": "display_data"
    }
   ],
   "source": [
    "#select the year of interest \n",
    "years = [2020, 2019]\n",
    "widget_select_year = v.Select(items=years, label='Select a year', v_model=None)\n",
    "\n",
    "def on_year_change(widget, event, data):\n",
    "    global year\n",
    "    year = widget.v_model\n",
    "\n",
    "widget_select_year.on_event('change', on_year_change )\n",
    "widget_select_year"
   ]
  },
  {
   "cell_type": "code",
   "execution_count": 8,
   "metadata": {},
   "outputs": [
    {
     "data": {
      "application/vnd.jupyter.widget-view+json": {
       "model_id": "e723721b6b254e89b3e8508bc8f9d929",
       "version_major": 2,
       "version_minor": 0
      },
      "text/plain": [
       "TextField(class_='d-none', label='select a GEE asset', v_model=None)"
      ]
     },
     "metadata": {},
     "output_type": "display_data"
    }
   ],
   "source": [
    "#GEE asset\n",
    "widget_asset_name = v.TextField(label='select a GEE asset', class_=\"d-none\", v_model=None)\n",
    "\n",
    "def on_asset_change(widget, event, data):\n",
    "    global asset_name\n",
    "    asset_name = widget.v_model\n",
    "    \n",
    "widget_asset_name.on_event('change', on_asset_change)\n",
    "widget_asset_name"
   ]
  },
  {
   "cell_type": "code",
   "execution_count": 9,
   "metadata": {},
   "outputs": [
    {
     "data": {
      "application/vnd.jupyter.widget-view+json": {
       "model_id": "46b6620dca5e4bab86d90fc428784350",
       "version_major": 2,
       "version_minor": 0
      },
      "text/plain": [
       "Select(items=['Country boundaries', 'draw a shape', 'Upload file', 'use GEE asset'], label='Select an AOI type…"
      ]
     },
     "metadata": {},
     "output_type": "display_data"
    }
   ],
   "source": [
    "# add a method selector \n",
    "selection_method = ['Country boundaries', 'draw a shape', 'Upload file', 'use GEE asset']\n",
    "#disableling the upload file at the moment \n",
    "widget_drawing_method = v.Select(items=selection_method, label='Select an AOI type', v_model='use GEE asset')\n",
    "\n",
    "def on_method_change(widget, event, data):\n",
    "    \n",
    "    global selection_method\n",
    "    global widget_file_input\n",
    "    global widget_file_name\n",
    "    global widget_country_selection\n",
    "    global widget_asset_name\n",
    "    global drawing_method\n",
    "    \n",
    "    if widget.v_model == selection_method[0]: \n",
    "        widget_file_input.class_= 'd-none'\n",
    "        widget_file_name.class_='d-none'\n",
    "        widget_country_selection.class_='d-inline'\n",
    "        widget_asset_name.class_='d-none'\n",
    "        m.remove_control(dc)\n",
    "        dc.clear()\n",
    "    elif widget.v_model == selection_method[1]:\n",
    "        widget_file_input.class_= 'd-none'\n",
    "        widget_file_name.class_='d-inline'\n",
    "        widget_country_selection.class_='d-none'\n",
    "        widget_asset_name.class_='d-none'\n",
    "        m.add_control(dc)\n",
    "    elif widget.v_model == selection_method[2]:\n",
    "        widget_file_input.class_= 'd-inline'\n",
    "        widget_file_name.class_='d-none'\n",
    "        widget_country_selection.class_='d-none'\n",
    "        widget_asset_name.class_='d-none'\n",
    "        m.remove_control(dc)\n",
    "        dc.clear()\n",
    "    elif widget.v_model == selection_method[3]:\n",
    "        widget_file_input.class_= 'd-none'\n",
    "        widget_file_name.class_='d-none'\n",
    "        widget_country_selection.class_='d-none'\n",
    "        widget_asset_name.class_='d-inline'\n",
    "        m.remove_control(dc)\n",
    "        dc.clear()\n",
    "        \n",
    "    drawing_method = widget.v_model\n",
    "    \n",
    "\n",
    "widget_drawing_method.on_event('change', on_method_change)\n",
    "widget_drawing_method"
   ]
  },
  {
   "cell_type": "code",
   "execution_count": 10,
   "metadata": {},
   "outputs": [],
   "source": [
    "widget_alert = v.Alert(children=['turlututu'], type='info', text=True, class_=\"mt-5\")"
   ]
  },
  {
   "cell_type": "code",
   "execution_count": 11,
   "metadata": {},
   "outputs": [
    {
     "data": {
      "application/vnd.jupyter.widget-view+json": {
       "model_id": "77d4c90812454adcbce514b48e30e7ce",
       "version_major": 2,
       "version_minor": 0
      },
      "text/plain": [
       "Container(children=[Btn(children=[Icon(children=['mdi-map-marker-check'], left=True), 'Select these inputs'], …"
      ]
     },
     "metadata": {},
     "output_type": "display_data"
    }
   ],
   "source": [
    "#validate the selected data \n",
    "widget_validate_data = v.Container(children=[\n",
    "    v.Btn(color='primary', children=[\n",
    "        v.Icon(left=True, children=[\n",
    "            'mdi-map-marker-check'\n",
    "        ]),\n",
    "        'Select these inputs'\n",
    "    ])\n",
    "])\n",
    "\n",
    "def on_click(widget, event, data):\n",
    "    \n",
    "    global widget_alert\n",
    "    global drawing_method\n",
    "    \n",
    "    text = ['toto']\n",
    "    widget_alert.children = text\n",
    "    \n",
    "    #do something \n",
    "    #asset = run_GLAD_input(file_input, file_name, country_selection, asset_name, drawing_method, feature_collection)\n",
    "\n",
    "    #update the map with asset\n",
    "    #updateMap(m, asset)\n",
    "\n",
    "widget_validate_data.on_event('click', on_click)\n",
    "\n",
    "widget_validate_data"
   ]
  },
  {
   "cell_type": "code",
   "execution_count": 12,
   "metadata": {},
   "outputs": [
    {
     "data": {
      "application/vnd.jupyter.widget-view+json": {
       "model_id": "b5fb31819e1e49f7be765ec295de2784",
       "version_major": 2,
       "version_minor": 0
      },
      "text/plain": [
       "Layout(align_center=True, children=[Card(children=[Html(children=['Select an AOI'], tag='h2'), Row(children=[F…"
      ]
     },
     "metadata": {},
     "output_type": "display_data"
    }
   ],
   "source": [
    "#create the display \n",
    "inputs = v.Layout(\n",
    "    _metadata={'mount-id': 'data-input'},\n",
    "    row=True,\n",
    "    class_=\"pa-5\",\n",
    "    align_center=True, \n",
    "    children=[\n",
    "        v.Flex(xs12=True, children=[widget_drawing_method]),\n",
    "        v.Flex(xs12=True, children=[widget_country_selection]),\n",
    "        v.Flex(xs12=True, children=[widget_file_input]),\n",
    "        v.Flex(xs12=True, children=[widget_file_name]),\n",
    "        v.Flex(xs12=True, children=[widget_select_year]),\n",
    "        v.Flex(xs12=True, children=[widget_validate_data]),\n",
    "        v.Flex(xs12=True, children=[widget_alert]),\n",
    "    ]\n",
    ")\n",
    "inputs\n",
    "\n",
    "content_main =  v.Layout(\n",
    "    _metadata={'mount_id': 'content-main'},\n",
    "    row=True,\n",
    "    xs12=True,\n",
    "    align_center=True, \n",
    "    class_=\"ma-5\",\n",
    "    children=[\n",
    "        v.Card( \n",
    "            class_=\"pa-5\",\n",
    "            raised=True,\n",
    "            xs12=True,\n",
    "            children=[\n",
    "                v.Html(xs12=True, tag='h2', children=['Select an AOI']),\n",
    "                v.Row(\n",
    "                    xs12=True,\n",
    "                    children=[\n",
    "                        v.Flex(class_=\"pa-5\", xs12=True, lg6=True, children=[m]),\n",
    "                        v.Flex(xs12=True, lg6=True, children=[inputs]),\n",
    "                    ]\n",
    "                )    \n",
    "            ]\n",
    "        )\n",
    "    ]\n",
    ")\n",
    "content_main"
   ]
  }
 ],
 "metadata": {
  "kernelspec": {
   "display_name": "Python 3",
   "language": "python",
   "name": "python3"
  },
  "language_info": {
   "codemirror_mode": {
    "name": "ipython",
    "version": 3
   },
   "file_extension": ".py",
   "mimetype": "text/x-python",
   "name": "python",
   "nbconvert_exporter": "python",
   "pygments_lexer": "ipython3",
   "version": "3.6.9"
  }
 },
 "nbformat": 4,
 "nbformat_minor": 4
}
