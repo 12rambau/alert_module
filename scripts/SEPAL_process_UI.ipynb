{
 "cells": [
  {
   "cell_type": "code",
   "execution_count": null,
   "metadata": {},
   "outputs": [],
   "source": [
    "import ipyvuetify as v\n",
    "import ipywidgets as widgets"
   ]
  },
  {
   "cell_type": "code",
   "execution_count": null,
   "metadata": {},
   "outputs": [],
   "source": [
    "widget_alert = v.Alert(children=['turlututu'], type='info', text=True, class_=\"mt-5\")\n",
    "#widget_alert"
   ]
  },
  {
   "cell_type": "code",
   "execution_count": null,
   "metadata": {},
   "outputs": [],
   "source": [
    "#validate the selected data \n",
    "widget_validate_data = v.Container(children=[\n",
    "    v.Btn(color='primary', children=[\n",
    "        v.Icon(left=True, children=['mdi-cogs']),\n",
    "        'Run SEPAL process'\n",
    "    ])\n",
    "])\n",
    "\n",
    "def on_click(widget, event, data):\n",
    "    \n",
    "    global widget_alert\n",
    "    global drawing_method\n",
    "    \n",
    "    text = ['toto']\n",
    "    widget_alert.type = 'success'\n",
    "    widget_alert.children = text\n",
    "    \n",
    "    #do something \n",
    "    #asset, type, message = run_GEE_process\n",
    "\n",
    "widget_validate_data.on_event('click', on_click)\n",
    "#widget_validate_data"
   ]
  },
  {
   "cell_type": "code",
   "execution_count": null,
   "metadata": {},
   "outputs": [],
   "source": [
    "#create the display \n",
    "inputs = v.Layout(\n",
    "    _metadata={'mount-id': 'data-input'},\n",
    "    row=True,\n",
    "    class_=\"pa-5\",\n",
    "    align_center=True, \n",
    "    children=[\n",
    "        v.Flex(xs12=True, children=[widget_validate_data]),\n",
    "        v.Flex(xs12=True, children=[widget_alert])\n",
    "    ]\n",
    ")\n",
    "#inputs\n",
    "\n",
    "SEPAL_content_main =  v.Layout(\n",
    "    _metadata={'mount_id': 'content-main'},\n",
    "    row=True,\n",
    "    xs12=True,\n",
    "    align_center=True, \n",
    "    class_=\"ma-5\",\n",
    "    children=[\n",
    "        v.Card( \n",
    "            class_=\"pa-5\",\n",
    "            raised=True,\n",
    "            xs12=True,\n",
    "            children=[\n",
    "                v.Html(xs12=True, tag='h2', children=['Run the SEPAL process']),\n",
    "                v.Flex(xs12=True, lg6=True, children=[inputs]),   \n",
    "            ]\n",
    "        )\n",
    "    ]\n",
    ")\n",
    "SEPAL_content_main"
   ]
  }
 ],
 "metadata": {
  "kernelspec": {
   "display_name": "Python 3",
   "language": "python",
   "name": "python3"
  },
  "language_info": {
   "codemirror_mode": {
    "name": "ipython",
    "version": 3
   },
   "file_extension": ".py",
   "mimetype": "text/x-python",
   "name": "python",
   "nbconvert_exporter": "python",
   "pygments_lexer": "ipython3",
   "version": "3.6.9"
  }
 },
 "nbformat": 4,
 "nbformat_minor": 4
}
