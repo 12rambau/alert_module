{
 "cells": [
  {
   "cell_type": "code",
   "execution_count": null,
   "metadata": {},
   "outputs": [],
   "source": [
    "from scripts import alert_driver as ad"
   ]
  },
  {
   "cell_type": "code",
   "execution_count": null,
   "metadata": {},
   "outputs": [],
   "source": [
    "# class io as mutable object \n",
    "ma_alert_io = ad.AlertIo()"
   ]
  },
  {
   "cell_type": "code",
   "execution_count": null,
   "metadata": {},
   "outputs": [],
   "source": [
    "ma_alert_driver = ad.DriverTile(ma_alert_io)"
   ]
  },
  {
   "cell_type": "code",
   "execution_count": null,
   "metadata": {},
   "outputs": [],
   "source": [
    "# define a custom function \n",
    "\n",
    "from scripts import alert_process as ap\n",
    "\n",
    "def process_start (widget, event, data):\n",
    "    \n",
    "    widget.toggle_loading()\n",
    "    \n",
    "    output = ma_alert_driver.output\n",
    "    \n",
    "    #try:\n",
    "    ma_alert_io.date, ma_alert_io.alert = ap.get_alerts(ma_aoi_io, ma_alert_io, output) \n",
    "    #except Exception as e: \n",
    "    #    output.add_live_msg(str(e), 'error') \n",
    "    \n",
    "    widget.toggle_loading()\n",
    "    \n",
    "    return \n",
    "\n",
    "ma_alert_driver.btn.on_event('click', process_start)"
   ]
  },
  {
   "cell_type": "code",
   "execution_count": null,
   "metadata": {},
   "outputs": [],
   "source": [
    "ma_alert_driver"
   ]
  },
  {
   "cell_type": "code",
   "execution_count": null,
   "metadata": {},
   "outputs": [],
   "source": []
  }
 ],
 "metadata": {
  "kernelspec": {
   "display_name": "Python 3",
   "language": "python",
   "name": "python3"
  },
  "language_info": {
   "codemirror_mode": {
    "name": "ipython",
    "version": 3
   },
   "file_extension": ".py",
   "mimetype": "text/x-python",
   "name": "python",
   "nbconvert_exporter": "python",
   "pygments_lexer": "ipython3",
   "version": "3.6.9"
  }
 },
 "nbformat": 4,
 "nbformat_minor": 4
}
