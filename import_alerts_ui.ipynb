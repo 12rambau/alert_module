{
 "cells": [
  {
   "cell_type": "code",
   "execution_count": 1,
   "metadata": {},
   "outputs": [],
   "source": [
    "from scripts import alert_driver as ad"
   ]
  },
  {
   "cell_type": "code",
   "execution_count": 2,
   "metadata": {},
   "outputs": [],
   "source": [
    "#class io as mutable object \n",
    "am_alert_io = ad.AlertIo()"
   ]
  },
  {
   "cell_type": "code",
   "execution_count": 3,
   "metadata": {},
   "outputs": [],
   "source": [
    "am_alert_driver = ad.DriverTile(am_alert_io)"
   ]
  },
  {
   "cell_type": "code",
   "execution_count": 4,
   "metadata": {},
   "outputs": [],
   "source": [
    "#define a custom function \n",
    "\n",
    "from scripts import alert_process as ap\n",
    "\n",
    "def process_start (widget, event, data):\n",
    "    \n",
    "    widget.toggle_loading()\n",
    "    \n",
    "    output = am_alert_driver.output\n",
    "    \n",
    "    class AoiIo:\n",
    "        def __init__(self, name):\n",
    "            self.assetId = name\n",
    "    aoi_io = AoiIo('users/bornToBeAlive/aoi_SN')\n",
    "    \n",
    "    #try:\n",
    "    alert_date_map, alert_map = ap.get_alerts(aoi_io, am_alert_io, output) \n",
    "    #except Exception as e: \n",
    "    #    output.add_live_msg(str(e), 'error')\n",
    "    \n",
    "    widget.toggle_loading()\n",
    "    \n",
    "    return \n",
    "\n",
    "am_alert_driver.btn.on_event('click', process_start)"
   ]
  },
  {
   "cell_type": "code",
   "execution_count": 5,
   "metadata": {},
   "outputs": [
    {
     "data": {
      "application/vnd.jupyter.widget-view+json": {
       "model_id": "188997742aaf41bfa9ccc9ca2e33f20b",
       "version_major": 2,
       "version_minor": 0
      },
      "text/plain": [
       "DriverTile(align_center=True, children=[Card(children=[Html(children=['Select your alerts'], tag='h2'), Flex(c…"
      ]
     },
     "metadata": {},
     "output_type": "display_data"
    }
   ],
   "source": [
    "am_alert_driver"
   ]
  }
 ],
 "metadata": {
  "kernelspec": {
   "display_name": "Python 3",
   "language": "python",
   "name": "python3"
  },
  "language_info": {
   "codemirror_mode": {
    "name": "ipython",
    "version": 3
   },
   "file_extension": ".py",
   "mimetype": "text/x-python",
   "name": "python",
   "nbconvert_exporter": "python",
   "pygments_lexer": "ipython3",
   "version": "3.6.9"
  }
 },
 "nbformat": 4,
 "nbformat_minor": 4
}
