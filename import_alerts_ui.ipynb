{
 "cells": [
  {
   "cell_type": "code",
   "execution_count": 1,
   "metadata": {},
   "outputs": [],
   "source": [
    "from scripts import alert_driver as ad"
   ]
  },
  {
   "cell_type": "code",
   "execution_count": 2,
   "metadata": {},
   "outputs": [],
   "source": [
    "#class io as mutable object \n",
    "ma_alert_io = ad.AlertIo()"
   ]
  },
  {
   "cell_type": "code",
   "execution_count": 3,
   "metadata": {},
   "outputs": [],
   "source": [
    "ma_alert_driver = ad.DriverTile(ma_alert_io)"
   ]
  },
  {
   "cell_type": "code",
   "execution_count": 4,
   "metadata": {},
   "outputs": [],
   "source": [
    "#define a custom function \n",
    "\n",
    "from scripts import alert_process as ap\n",
    "\n",
    "def process_start (widget, event, data):\n",
    "    \n",
    "    widget.toggle_loading()\n",
    "    \n",
    "    output = ma_alert_driver.output\n",
    "    \n",
    "    try:\n",
    "        ma_alert_io.date, ma_alert_io.alert = ap.get_alerts(ma_aoi_io, ma_alert_io, output) \n",
    "    except Exception as e: \n",
    "        output.add_live_msg(str(e), 'error') \n",
    "    \n",
    "    widget.toggle_loading()\n",
    "    \n",
    "    return \n",
    "\n",
    "ma_alert_driver.btn.on_event('click', process_start)"
   ]
  },
  {
   "cell_type": "code",
   "execution_count": 5,
   "metadata": {},
   "outputs": [
    {
     "data": {
      "application/vnd.jupyter.widget-view+json": {
       "model_id": "0c03ca97e3424b35bf93d8b3cb236e42",
       "version_major": 2,
       "version_minor": 0
      },
      "text/plain": [
       "DriverTile(align_center=True, children=[Card(children=[Html(children=['Select your alerts'], tag='h2'), Flex(c…"
      ]
     },
     "metadata": {},
     "output_type": "display_data"
    }
   ],
   "source": [
    "ma_alert_driver"
   ]
  },
  {
   "cell_type": "code",
   "execution_count": 6,
   "metadata": {},
   "outputs": [
    {
     "data": {
      "application/vnd.jupyter.widget-view+json": {
       "model_id": "b3f22674230d4c648056bf4e20950a1b",
       "version_major": 2,
       "version_minor": 0
      },
      "text/plain": [
       "Markdown(align_center=True, children=[Flex(children=[MyHTML()], xs12=True)], class_='pa-5 d-none', row=True)"
      ]
     },
     "metadata": {},
     "output_type": "display_data"
    }
   ],
   "source": [
    "ma_alert_driver.local_txt"
   ]
  },
  {
   "cell_type": "code",
   "execution_count": null,
   "metadata": {},
   "outputs": [],
   "source": []
  }
 ],
 "metadata": {
  "kernelspec": {
   "display_name": "Python 3",
   "language": "python",
   "name": "python3"
  },
  "language_info": {
   "codemirror_mode": {
    "name": "ipython",
    "version": 3
   },
   "file_extension": ".py",
   "mimetype": "text/x-python",
   "name": "python",
   "nbconvert_exporter": "python",
   "pygments_lexer": "ipython3",
   "version": "3.6.9"
  }
 },
 "nbformat": 4,
 "nbformat_minor": 4
}
