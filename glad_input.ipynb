{
 "cells": [
  {
   "cell_type": "code",
   "execution_count": 1,
   "metadata": {},
   "outputs": [],
   "source": [
    "#load module\n",
    "import ee\n",
    "import geemap\n",
    "import ipywidgets as widgets\n",
    "from ipywidgets import HBox, Label\n",
    "import csv"
   ]
  },
  {
   "cell_type": "code",
   "execution_count": 2,
   "metadata": {},
   "outputs": [],
   "source": [
    "#initialize earth engine\n",
    "ee.Initialize()"
   ]
  },
  {
   "cell_type": "code",
   "execution_count": 3,
   "metadata": {},
   "outputs": [],
   "source": [
    "#define constants\n",
    "BUTTON_STYLE = {'button_color':'rgba(28,28,28,.99)'}\n",
    "BUTTON_LAYOUT = widgets.Layout(width='175px')\n",
    "BASEMAP = 'CartoDB.DarkMatter'\n",
    "CENTER = [4.260202, 15.243700]"
   ]
  },
  {
   "cell_type": "code",
   "execution_count": 4,
   "metadata": {},
   "outputs": [],
   "source": [
    "#utils\n",
    "def create_FIPS_dic():\n",
    "    \"\"\"create the list of the country code in the FIPS norm using the CSV file provided in utils\"\"\"\n",
    "    fips_dic = {}\n",
    "    with open('utils/FIPS_code_to_country.csv', newline='') as f:\n",
    "        reader = csv.reader(f, delimiter=';')\n",
    "        for row in reader:\n",
    "            fips_dic[row[1]] = row[0]\n",
    "        \n",
    "    return fips_dic"
   ]
  },
  {
   "cell_type": "code",
   "execution_count": 5,
   "metadata": {},
   "outputs": [],
   "source": [
    "#template\n",
    "country_code_field =  widgets.Dropdown(\n",
    "    options=create_FIPS_dic(),\n",
    "    value=\"GB\"\n",
    ")\n",
    "\n",
    "year_field =  widgets.Dropdown(\n",
    "    options=['2020','2019'],\n",
    "    value='2019'\n",
    ")\n",
    "\n",
    "output = widgets.Output()\n",
    "\n",
    "button = widgets.Button(\n",
    "    description=\"Use these input!\"\n",
    ")\n",
    "button.button_style = 'info'\n",
    "button.style = BUTTON_STYLE\n",
    "button.layout = BUTTON_LAYOUT"
   ]
  },
  {
   "cell_type": "code",
   "execution_count": 6,
   "metadata": {},
   "outputs": [],
   "source": [
    "#define the function used to display the process\n",
    "def on_button_clicked(b):\n",
    "    \n",
    "    global country_code\n",
    "    global year\n",
    "    \n",
    "    with output:\n",
    "        button.disabled=True\n",
    "        country_code_field.disabled=True\n",
    "        year_field.disabled=True\n",
    "        \n",
    "        country_code = country_code_field.value.upper()\n",
    "        year = year_field.value\n",
    "        \n",
    "        display_map(country_code)\n",
    "        display_inputs(country_code, year)\n",
    "        \n",
    "def add_layer_to_map(aoi_ee):\n",
    "    mapa.clear_layers()\n",
    "    mapa.add_basemap(BASEMAP)\n",
    "    mapa.addLayer(aoi, {'color': 'FF0000'})\n",
    "    mapa.centerObject(aoi, zoom=3)\n",
    "        \n",
    "def display_map(country_code):\n",
    "    global mapa\n",
    "    global aoi\n",
    "    \n",
    "    mapa = geemap.Map(center=CENTER)\n",
    "    mapa.clear_layers()\n",
    "    mapa.clear_controls()\n",
    "    mapa.add_basemap(BASEMAP)\n",
    "    mapa.layout.height='200px'\n",
    "    display(mapa)\n",
    "    \n",
    "    aoi = ee.FeatureCollection('USDOS/LSIB_SIMPLE/2017').filter(ee.Filter.eq('country_co', country_code))\n",
    "    add_layer_to_map(aoi)\n",
    "\n",
    "def display_inputs(country_code, year):\n",
    "    print (\"You have selected the data from {0} for the year {1}.\".format(country_code, year))"
   ]
  },
  {
   "cell_type": "code",
   "execution_count": 7,
   "metadata": {},
   "outputs": [
    {
     "data": {
      "application/vnd.jupyter.widget-view+json": {
       "model_id": "143a74bdaeca423b83a395d7066fcfef",
       "version_major": 2,
       "version_minor": 0
      },
      "text/plain": [
       "HBox(children=(HBox(children=(Label(value='Country/province: '), Dropdown(index=88, options={'Afghanistan': '\\…"
      ]
     },
     "metadata": {},
     "output_type": "display_data"
    },
    {
     "data": {
      "application/vnd.jupyter.widget-view+json": {
       "model_id": "0b13f2b8a1bf4064a36deb33dff02096",
       "version_major": 2,
       "version_minor": 0
      },
      "text/plain": [
       "Output()"
      ]
     },
     "metadata": {},
     "output_type": "display_data"
    }
   ],
   "source": [
    "#run\n",
    "ui1 = HBox([Label('Country/province: '), country_code_field])\n",
    "ui2 = HBox([Label('year: '), year_field])\n",
    "button.on_click(on_button_clicked)\n",
    "display(HBox([ui1, ui2, button]))\n",
    "display(output)"
   ]
  },
  {
   "cell_type": "code",
   "execution_count": null,
   "metadata": {},
   "outputs": [],
   "source": []
  }
 ],
 "metadata": {
  "kernelspec": {
   "display_name": "Python 3",
   "language": "python",
   "name": "python3"
  },
  "language_info": {
   "codemirror_mode": {
    "name": "ipython",
    "version": 3
   },
   "file_extension": ".py",
   "mimetype": "text/x-python",
   "name": "python",
   "nbconvert_exporter": "python",
   "pygments_lexer": "ipython3",
   "version": "3.6.9"
  }
 },
 "nbformat": 4,
 "nbformat_minor": 4
}
