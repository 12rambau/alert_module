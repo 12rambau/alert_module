{
 "cells": [
  {
   "cell_type": "markdown",
   "metadata": {},
   "source": [
    "# GLAD alerts module"
   ]
  },
  {
   "cell_type": "code",
   "execution_count": 8,
   "metadata": {},
   "outputs": [],
   "source": [
    "import ee\n",
    "import os #à ne pas garder à priori ça ser à rien \n",
    "import ipywidgets as widgets\n",
    "from ipywidgets import interactive\n",
    "from ipywidgets import HBox, Label\n",
    "import geemap\n",
    "import subprocess\n",
    "import glob\n",
    "from datetime import datetime\n",
    "from scripts import gdrive\n",
    "\n",
    "import logging\n",
    "logging.getLogger('googleapiclient.discovery_cache').setLevel(logging.ERROR)\n",
    "\n",
    "ee.Initialize()"
   ]
  },
  {
   "cell_type": "markdown",
   "metadata": {},
   "source": [
    "## fetch the alerts\n",
    " \n",
    "- [x] select a country from the LSIB_SIMPLE 2017 list \n",
    "- [x] select a year\n",
    "- [x] A map will be showing the selected country \n",
    "- [x] the downloading on your Gdrive should start\n",
    "- [x] import these files to your sepal local folder"
   ]
  },
  {
   "cell_type": "code",
   "execution_count": 9,
   "metadata": {},
   "outputs": [
    {
     "data": {
      "application/vnd.jupyter.widget-view+json": {
       "model_id": "7adf495f42bb43a8aa497a6ffb51ac45",
       "version_major": 2,
       "version_minor": 0
      },
      "text/plain": [
       "HBox(children=(HBox(children=(Label(value='contry code: '), Text(value='', placeholder='Enter a country code')…"
      ]
     },
     "metadata": {},
     "output_type": "display_data"
    },
    {
     "data": {
      "application/vnd.jupyter.widget-view+json": {
       "model_id": "991d0e68bcdb4c038ab23435658fb173",
       "version_major": 2,
       "version_minor": 0
      },
      "text/plain": [
       "Output()"
      ]
     },
     "metadata": {},
     "output_type": "display_data"
    }
   ],
   "source": [
    "#const\n",
    "BUTTON_STYLE = {'button_color':'rgba(28,28,28,.99)'}\n",
    "bUTTON_LAYOUT = widgets.Layout(\n",
    "    width='175px',\n",
    ")\n",
    "BASEMAP = 'CartoDB.DarkMatter'\n",
    "CENTER = [4.260202, 15.243700]\n",
    "NOW = datetime.now()\n",
    "\n",
    "#template\n",
    "country_code_field =  widgets.Text(\n",
    "    value='',\n",
    "    placeholder='Enter a country code',\n",
    ")\n",
    "\n",
    "year_field =  widgets.Dropdown(\n",
    "    options=['2020','2019'],\n",
    "    value='2019'\n",
    ")\n",
    "\n",
    "output = widgets.Output()\n",
    "\n",
    "button = widgets.Button(\n",
    "    description=\"Use these input!\"\n",
    ")\n",
    "button.button_style = 'info'\n",
    "button.style = BUTTON_STYLE\n",
    "button.layout = bUTTON_LAYOUT\n",
    "\n",
    "#function\n",
    "def on_button_clicked(b):\n",
    "    \n",
    "    global country_code\n",
    "    global year\n",
    "    \n",
    "    with output:\n",
    "        button.disabled=True\n",
    "        country_code_field.disabled=True\n",
    "        year_field.disabled=True\n",
    "        \n",
    "        country_code = country_code_field.value.upper()\n",
    "        year = year_field.value\n",
    "        \n",
    "        display_map(country_code)\n",
    "        get_alerts(country_code, year)\n",
    "        task = download_to_disk(country_code, year, alerts)\n",
    "        #drive_handler.check_status(task)\n",
    "        \n",
    "def add_layer_to_map(aoi_ee):\n",
    "    mapa.clear_layers()\n",
    "    mapa.add_basemap(BASEMAP)\n",
    "    mapa.addLayer(aoi, {'color': 'FF0000'})\n",
    "    mapa.centerObject(aoi, zoom=3)\n",
    "        \n",
    "def display_map(country_code):\n",
    "    global mapa\n",
    "    global aoi\n",
    "    \n",
    "    mapa = geemap.Map(center=CENTER)\n",
    "    mapa.clear_layers()\n",
    "    mapa.clear_controls()\n",
    "    mapa.add_basemap(BASEMAP)\n",
    "    mapa.layout.height='200px'\n",
    "    display(mapa)\n",
    "    \n",
    "    aoi = ee.FeatureCollection('USDOS/LSIB_SIMPLE/2017').filter(ee.Filter.eq('country_co', country_code))\n",
    "    add_layer_to_map(aoi)\n",
    "    \n",
    "def get_alerts(country_code, year):\n",
    "    \"\"\" get the alerts from the GLAD project\"\"\"\n",
    "    global country\n",
    "    global alerts\n",
    "    \n",
    "    country = ee.FeatureCollection('USDOS/LSIB_SIMPLE/2017').filter(ee.Filter.eq('country_co', country_code))\n",
    "    all_alerts  = ee.ImageCollection('projects/glad/alert/UpdResult')\n",
    "    alerts = all_alerts.select('conf' + year[-2:]).mosaic().clip(country);\n",
    "    \n",
    "def construct_filename(country_code, year):\n",
    "    \"\"\"return the filename associated with the current task\"\"\"\n",
    "    \n",
    "    filename = 'alerts_' + country_code + '_' + year + '_' + NOW.strftime(\"%Y-%m-%d_%H:%M:%S\")\n",
    "    \n",
    "    return filename\n",
    "    \n",
    "def download_to_disk(country_code, year, alerts):\n",
    "    \"\"\"download the tile to the GEE disk\"\"\"\n",
    "    task_config = {\n",
    "        'image':alerts,\n",
    "        'description':construct_filename(country_code, year),\n",
    "        'scale': 30,\n",
    "        'region':country.geometry(),\n",
    "        'maxPixels': 1e10\n",
    "    }\n",
    "    \n",
    "    task = ee.batch.Export.image.toDrive(**task_config)\n",
    "    task.start()\n",
    "    \n",
    "    return task\n",
    "    \n",
    "    \n",
    "#run\n",
    "ui1 = HBox([Label('contry code: '), country_code_field])\n",
    "ui2 = HBox([Label('year: '), year_field])\n",
    "button.on_click(on_button_clicked)\n",
    "display(HBox([ui1, ui2, button]))\n",
    "display(output)\n"
   ]
  },
  {
   "cell_type": "markdown",
   "metadata": {},
   "source": [
    "## Process the glad Alert file\n",
    "- [x] select the images from the local folder \n",
    "- [x] execute the merging command\n",
    "- [x] execute the clump command \n",
    "- [x] execute the calc command"
   ]
  },
  {
   "cell_type": "code",
   "execution_count": 10,
   "metadata": {},
   "outputs": [],
   "source": [
    "# Create a folder to download the glad images\n",
    "glad_dir = os.path.join(os.path.expanduser('~'), 'glad_results')+'/'\n",
    "if not os.path.exists(glad_dir):\n",
    "    os.makedirs(glad_dir)\n",
    "\n",
    "alert_map   = glad_dir + \"glad_\" +year + \"_\" + country_code + \".tif\"\n",
    "clump_map   = glad_dir + \"tmp_clump_\" + year + \"_\" + country_code + \".tif\"\n",
    "alert_stats = glad_dir + \"stats_glad_\" + year + \"_\" + country_code + \".txt\"\n",
    "        \n",
    "#download the files to my folder \n",
    "drive_handler = gdrive.gdrive()\n",
    "files = drive_handler.get_files(construct_filename(country_code, year))\n",
    "drive_handler.download_files(files, glad_dir)"
   ]
  },
  {
   "cell_type": "code",
   "execution_count": 11,
   "metadata": {},
   "outputs": [],
   "source": [
    "#postprocess function \n",
    "def merge(alert_map, glad_dir):\n",
    "    \"\"\" merge into a single tif files\"\"\"\n",
    "    \n",
    "    #create command\n",
    "    command = [\n",
    "        'gdal_merge.py',\n",
    "        '-o', alert_map,\n",
    "        '-v', '-co', '\"COMPRESS=LZW\"'\n",
    "    ]\n",
    "    \n",
    "    #add the input files\n",
    "    file_list = []\n",
    "    for file in glob.glob(glad_dir+\"alerts*.tif\"):\n",
    "        command.append(file)\n",
    "\n",
    "    process = subprocess.run(\n",
    "        command,\n",
    "        stdout=subprocess.PIPE,\n",
    "        stderr=subprocess.PIPE,\n",
    "        universal_newlines=True\n",
    "    ) \n",
    "    \n",
    "    print(process.stdout)\n",
    "    \n",
    "def clump(alert_map, clump_map):\n",
    "    \"\"\" clump the results\"\"\"\n",
    "    process = subprocess.run(\n",
    "        [\n",
    "            'oft-clump', \n",
    "            '-i', alert_map, \n",
    "            '-o', clump_map\n",
    "        ],\n",
    "        stdout=subprocess.PIPE,\n",
    "        stderr=subprocess.PIPE,\n",
    "        universal_newlines=True\n",
    "    )\n",
    "    \n",
    "    print (process.stdout)\n",
    "    \n",
    "def calc(clump_map, alert_map, alert_stats):\n",
    "    \"\"\"Compute the statistics per each individual clump\"\"\"\n",
    "    process = subprocess.run(\n",
    "        [\n",
    "            'oft-his', \n",
    "            '-um', clump_map, \n",
    "            '-i', alert_map, \n",
    "            '-o', alert_stats,\n",
    "            '-maxval','3'\n",
    "        \n",
    "        ],\n",
    "        stdout=subprocess.PIPE,\n",
    "        stderr=subprocess.PIPE,\n",
    "        universal_newlines=True\n",
    "    )\n",
    "    \n",
    "    print(process.stdout)    "
   ]
  },
  {
   "cell_type": "code",
   "execution_count": 12,
   "metadata": {},
   "outputs": [
    {
     "name": "stdout",
     "output_type": "stream",
     "text": [
      "\n",
      "Processing file     1 of     1,  0.000% completed in 0 minutes.\n",
      "Filename: /home/prambaud/glad_results/alerts_SZ_2019_2020-06-29_12:21:22.tif\n",
      "File Size: 16831x7387x1\n",
      "Pixel Size: 0.000269 x -0.000269\n",
      "UL:(5.955291,47.809417)   LR:(10.491155,45.818661)\n",
      "Copy 0,0,16831,7387 to 0,0,16831,7387.\n",
      "\n"
     ]
    }
   ],
   "source": [
    "# merge doesn't work with computer smaller than m4 \n",
    "merge(alert_map, glad_dir)"
   ]
  },
  {
   "cell_type": "code",
   "execution_count": 13,
   "metadata": {},
   "outputs": [
    {
     "name": "stdout",
     "output_type": "stream",
     "text": [
      "(null) /home/prambaud/glad_results/glad_2019_SZ.tif /home/prambaud/glad_results/tmp_clump_2019_SZ.tif\n",
      "Driver: GTiff/GeoTIFF\n",
      "Size is 16831, 7387\n",
      "Corner Coordinates:\n",
      "Upper Left  (   5.9552913,  47.8094174) (  5d57'19.05\"E, 47d48'33.90\"N)\n",
      "Lower Left  (   5.9552913,  45.8186609) (  5d57'19.05\"E, 45d49' 7.18\"N)\n",
      "Upper Right (  10.4911547,  47.8094174) ( 10d29'28.16\"E, 47d48'33.90\"N)\n",
      "Lower Right (  10.4911547,  45.8186609) ( 10d29'28.16\"E, 45d49' 7.18\"N)\n",
      "Center      (   8.2232230,  46.8140391) (  8d13'23.60\"E, 46d48'50.54\"N)\n",
      "...........\n",
      "...........\n",
      "Done\n",
      "\n",
      "DoneClose\n",
      "\n"
     ]
    }
   ],
   "source": [
    "# work like a charm\n",
    "clump(alert_map, clump_map)"
   ]
  },
  {
   "cell_type": "code",
   "execution_count": 14,
   "metadata": {},
   "outputs": [
    {
     "name": "stdout",
     "output_type": "stream",
     "text": [
      "Pixel Size = (0.00026949,-0.00026949)\n",
      "Corner Coordinates:\n",
      "Upper Left  (   5.9552913,  47.8094174) (  5d57'19.05\"E, 47d48'33.90\"N)\n",
      "Lower Left  (   5.9552913,  45.8186609) (  5d57'19.05\"E, 45d49' 7.18\"N)\n",
      "Upper Right (  10.4911547,  47.8094174) ( 10d29'28.16\"E, 47d48'33.90\"N)\n",
      "Lower Right (  10.4911547,  45.8186609) ( 10d29'28.16\"E, 45d49' 7.18\"N)\n",
      "Center      (   8.2232230,  46.8140391) (  8d13'23.60\"E, 46d48'50.54\"N)\n",
      "Number of input bands is 1\n",
      "Driver: GTiff/GeoTIFF\n",
      "Size is 16831, 7387\n",
      "Coordinate System is:\n",
      "GEOGCS[\"WGS 84\",\n",
      "    DATUM[\"WGS_1984\",\n",
      "        SPHEROID[\"WGS 84\",6378137,298.257223563,\n",
      "            AUTHORITY[\"EPSG\",\"7030\"]],\n",
      "        AUTHORITY[\"EPSG\",\"6326\"]],\n",
      "    PRIMEM[\"Greenwich\",0],\n",
      "    UNIT[\"degree\",0.0174532925199433,\n",
      "        AUTHORITY[\"EPSG\",\"9122\"]],\n",
      "    AXIS[\"Latitude\",NORTH],\n",
      "    AXIS[\"Longitude\",EAST],\n",
      "    AUTHORITY[\"EPSG\",\"4326\"]]\n",
      "Segment Min val = 1\n",
      "Segment Max val = 1\n",
      "Writing output\n",
      "\n",
      "DoneClose\n",
      "\n"
     ]
    }
   ],
   "source": [
    "# nPixel value 3 exceeds the given max input pixel value 1\\nExiting and deleteting empty output\n",
    "# BUG\n",
    "calc(clump_map, alert_map, alert_stats)"
   ]
  },
  {
   "cell_type": "code",
   "execution_count": null,
   "metadata": {},
   "outputs": [],
   "source": []
  }
 ],
 "metadata": {
  "kernelspec": {
   "display_name": "Python 3",
   "language": "python",
   "name": "python3"
  },
  "language_info": {
   "codemirror_mode": {
    "name": "ipython",
    "version": 3
   },
   "file_extension": ".py",
   "mimetype": "text/x-python",
   "name": "python",
   "nbconvert_exporter": "python",
   "pygments_lexer": "ipython3",
   "version": "3.6.9"
  }
 },
 "nbformat": 4,
 "nbformat_minor": 4
}
