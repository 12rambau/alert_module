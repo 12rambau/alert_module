{
 "cells": [
  {
   "cell_type": "markdown",
   "metadata": {},
   "source": [
    "## Introduction\n",
    "This notebook is intented for the users that experience difficulties executing the voila dashboard contained in UI.ipynb. It provides the same fonctionalities that you can run and use by clicking on : \n",
    "```\n",
    "Kernel -> Restart & Run All\n",
    "```"
   ]
  },
  {
   "cell_type": "code",
   "execution_count": 1,
   "metadata": {},
   "outputs": [],
   "source": [
    "%%capture\n",
    "import sys\n",
    "!{sys.executable} -m pip install 'sepal-ui>=0.7.1-beta'"
   ]
  },
  {
   "cell_type": "code",
   "execution_count": 2,
   "metadata": {},
   "outputs": [],
   "source": [
    "%%capture\n",
    "#prevent a rasterIo bug \n",
    "%set_env PROJ_LIB=/usr/share/proj"
   ]
  },
  {
   "cell_type": "code",
   "execution_count": 3,
   "metadata": {},
   "outputs": [],
   "source": [
    "#add all the tiles\n",
    "%run 'aoi_selector_ui.ipynb'\n",
    "%run 'import_alerts_ui.ipynb'\n",
    "%run 'sepal_process_ui.ipynb'\n",
    "%run 'about_ui.ipynb'"
   ]
  },
  {
   "cell_type": "code",
   "execution_count": 4,
   "metadata": {},
   "outputs": [
    {
     "data": {
      "application/vnd.jupyter.widget-view+json": {
       "model_id": "9900b2f6030848ad8163738ed3a2885b",
       "version_major": 2,
       "version_minor": 0
      },
      "text/plain": [
       "TileAoi(align_center=True, children=[Card(children=[Html(children=['AOI selection'], tag='h2'), Flex(children=…"
      ]
     },
     "metadata": {},
     "output_type": "display_data"
    }
   ],
   "source": [
    "ma_aoi"
   ]
  },
  {
   "cell_type": "code",
   "execution_count": 5,
   "metadata": {},
   "outputs": [
    {
     "data": {
      "application/vnd.jupyter.widget-view+json": {
       "model_id": "14037e7fdbdd4392adcd0935a41c605d",
       "version_major": 2,
       "version_minor": 0
      },
      "text/plain": [
       "DriverTile(align_center=True, children=[Card(children=[Html(children=['Select your alerts'], tag='h2'), Flex(c…"
      ]
     },
     "metadata": {},
     "output_type": "display_data"
    }
   ],
   "source": [
    "ma_alert_driver"
   ]
  },
  {
   "cell_type": "code",
   "execution_count": 6,
   "metadata": {
    "scrolled": false
   },
   "outputs": [
    {
     "data": {
      "application/vnd.jupyter.widget-view+json": {
       "model_id": "96e3a9817f4c4c6ea201d0c68b1b18f4",
       "version_major": 2,
       "version_minor": 0
      },
      "text/plain": [
       "Tile(align_center=True, children=[Card(children=[Html(children=['Postprocess'], tag='h2'), Flex(children=[''],…"
      ]
     },
     "metadata": {},
     "output_type": "display_data"
    }
   ],
   "source": [
    "ma_sepal"
   ]
  },
  {
   "cell_type": "code",
   "execution_count": 7,
   "metadata": {},
   "outputs": [
    {
     "data": {
      "application/vnd.jupyter.widget-view+json": {
       "model_id": "196b85e13351437ca2948dae36bfc265",
       "version_major": 2,
       "version_minor": 0
      },
      "text/plain": [
       "Tile(align_center=True, children=[Card(children=[Html(children=['Results'], tag='h2'), Flex(children=[''], xs1…"
      ]
     },
     "metadata": {},
     "output_type": "display_data"
    }
   ],
   "source": [
    "ma_results"
   ]
  },
  {
   "cell_type": "code",
   "execution_count": 8,
   "metadata": {},
   "outputs": [
    {
     "data": {
      "application/vnd.jupyter.widget-view+json": {
       "model_id": "9c46e1f353404bd1bf2f0989368b818f",
       "version_major": 2,
       "version_minor": 0
      },
      "text/plain": [
       "TileAbout(align_center=True, children=[Card(children=[Html(children=['About'], tag='h2'), Flex(children=[MyHTM…"
      ]
     },
     "metadata": {},
     "output_type": "display_data"
    }
   ],
   "source": [
    "ma_about"
   ]
  },
  {
   "cell_type": "code",
   "execution_count": 9,
   "metadata": {},
   "outputs": [
    {
     "data": {
      "application/vnd.jupyter.widget-view+json": {
       "model_id": "7fd38dd43ae446eab45c9a3f35cd85e9",
       "version_major": 2,
       "version_minor": 0
      },
      "text/plain": [
       "TileDisclaimer(align_center=True, children=[Card(children=[Html(children=['Disclaimer'], tag='h2'), Flex(child…"
      ]
     },
     "metadata": {},
     "output_type": "display_data"
    }
   ],
   "source": [
    "ma_disclaimer"
   ]
  },
  {
   "cell_type": "code",
   "execution_count": null,
   "metadata": {},
   "outputs": [],
   "source": []
  }
 ],
 "metadata": {
  "kernelspec": {
   "display_name": "Python 3",
   "language": "python",
   "name": "python3"
  },
  "language_info": {
   "codemirror_mode": {
    "name": "ipython",
    "version": 3
   },
   "file_extension": ".py",
   "mimetype": "text/x-python",
   "name": "python",
   "nbconvert_exporter": "python",
   "pygments_lexer": "ipython3",
   "version": "3.6.9"
  }
 },
 "nbformat": 4,
 "nbformat_minor": 4
}
