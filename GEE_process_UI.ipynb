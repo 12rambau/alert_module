{
 "cells": [
  {
   "cell_type": "code",
   "execution_count": null,
   "metadata": {},
   "outputs": [],
   "source": [
    "import ipyvuetify as v\n",
    "import ipywidgets as widgets\n",
    "from utils import utils\n",
    "from scripts import run_gee_process"
   ]
  },
  {
   "cell_type": "code",
   "execution_count": null,
   "metadata": {},
   "outputs": [],
   "source": [
    "#output \n",
    "year = None"
   ]
  },
  {
   "cell_type": "code",
   "execution_count": null,
   "metadata": {},
   "outputs": [],
   "source": [
    "#messages\n",
    "GEE_MESSAGE = 'click on \"Run process\" to launch the process on your GEE account'\n",
    "NO_INPUT = \"the input are not correctly set up, go back to step 1\""
   ]
  },
  {
   "cell_type": "code",
   "execution_count": null,
   "metadata": {},
   "outputs": [],
   "source": [
    "gee_process_output = v.Alert(children=[GEE_MESSAGE], type='info', text=True, class_=\"mt-5\")"
   ]
  },
  {
   "cell_type": "code",
   "execution_count": null,
   "metadata": {},
   "outputs": [],
   "source": [
    "#select the year of interest \n",
    "years = ['2020', '2019'] #using text input to transform it into 'confXX'\n",
    "gee_select_year = v.Select(items=years, label='Select a year', v_model=None)\n",
    "\n",
    "def on_year_change(widget, event, data):\n",
    "    global year\n",
    "    year = widget.v_model\n",
    "\n",
    "gee_select_year.on_event('change', on_year_change )"
   ]
  },
  {
   "cell_type": "code",
   "execution_count": null,
   "metadata": {},
   "outputs": [],
   "source": [
    "#validate the selected data\n",
    "gee_process_btn = v.Btn(\n",
    "    color='primary', \n",
    "    children=[\n",
    "        v.Icon(left=True, children=['mdi-cogs']),\n",
    "        'Run process'\n",
    "    ]\n",
    ")\n",
    "\n",
    "def gee_on_click(widget, event, data):\n",
    "    \n",
    "    global gee_process_output\n",
    "    global asset_name\n",
    "    global year\n",
    "    global gee_process_btn\n",
    "    \n",
    "    #check for the year \n",
    "    if year == None: \n",
    "        utils.displayIO(gee_process_output, 'error','You have forgotten to select a year')\n",
    "        return \n",
    "    \n",
    "    if asset_name == None or year == None:\n",
    "        utils.displayIO(gee_process_output, 'error', NO_INPUT)\n",
    "        return \n",
    "    \n",
    "    #do something \n",
    "    utils.toggleLoading(gee_process_btn)\n",
    "    run_gee_process.run_GEE_process(asset_name, year, gee_process_output)\n",
    "    utils.toggleLoading(gee_process_btn)\n",
    "\n",
    "gee_process_btn.on_event('click', gee_on_click)"
   ]
  },
  {
   "cell_type": "code",
   "execution_count": null,
   "metadata": {},
   "outputs": [],
   "source": [
    "#create the display \n",
    "inputs = v.Layout(\n",
    "    _metadata={'mount-id': 'data-input'},\n",
    "    row=True,\n",
    "    class_=\"pa-5\",\n",
    "    align_center=True, \n",
    "    children=[\n",
    "        v.Flex(xs12=True, children=[gee_select_year]),\n",
    "        v.Flex(xs12=True, children=[gee_process_btn]),\n",
    "        v.Flex(xs12=True, children=[gee_process_output])\n",
    "    ]\n",
    ")\n",
    "#inputs\n",
    "\n",
    "GEE_content_main =  v.Layout(\n",
    "    _metadata={'mount_id': 'gee_process_widget'},\n",
    "    row=True,\n",
    "    xs12=True,\n",
    "    align_center=True, \n",
    "    class_=\"ma-5 d-none\",\n",
    "    children=[\n",
    "        v.Card( \n",
    "            class_=\"pa-5\",\n",
    "            raised=True,\n",
    "            xs12=True,\n",
    "            children=[\n",
    "                v.Html(xs12=True, tag='h2', children=['Step 2: Retrieve alerts']),\n",
    "                v.Flex(xs12=True, lg6=True, children=[inputs]),   \n",
    "            ]\n",
    "        )\n",
    "    ]\n",
    ")\n",
    "#GEE_content_main.class_=\"ma-5 d-inline\" #for debugging\n",
    "GEE_content_main"
   ]
  },
  {
   "cell_type": "code",
   "execution_count": null,
   "metadata": {},
   "outputs": [],
   "source": [
    "#for testing \n",
    "#year = '2020'\n",
    "#asset_name = \"users/bornToBeAlive/aoi_SN\"\n",
    "#run_gee_process.run_GEE_process(asset_name, year, gee_process_output)"
   ]
  }
 ],
 "metadata": {
  "kernelspec": {
   "display_name": "Python 3",
   "language": "python",
   "name": "python3"
  },
  "language_info": {
   "codemirror_mode": {
    "name": "ipython",
    "version": 3
   },
   "file_extension": ".py",
   "mimetype": "text/x-python",
   "name": "python",
   "nbconvert_exporter": "python",
   "pygments_lexer": "ipython3",
   "version": "3.6.9"
  }
 },
 "nbformat": 4,
 "nbformat_minor": 4
}
