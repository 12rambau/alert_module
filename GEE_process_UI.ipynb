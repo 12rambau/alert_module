{
 "cells": [
  {
   "cell_type": "code",
   "execution_count": null,
   "metadata": {},
   "outputs": [],
   "source": [
    "import ipyvuetify as v\n",
    "import ipywidgets as widgets\n",
    "from utils import utils\n",
    "from scripts import run_gee_process"
   ]
  },
  {
   "cell_type": "code",
   "execution_count": null,
   "metadata": {},
   "outputs": [],
   "source": [
    "#for testing \n",
    "#year = '2019'\n",
    "#asset_name = \"users/bornToBeAlive/Glad_Singapore\""
   ]
  },
  {
   "cell_type": "code",
   "execution_count": null,
   "metadata": {},
   "outputs": [],
   "source": [
    "#messages\n",
    "NO_INPUT = \"the input are not correctly set up, go back to step 1\""
   ]
  },
  {
   "cell_type": "code",
   "execution_count": null,
   "metadata": {},
   "outputs": [],
   "source": [
    "gee_process_output = v.Alert(children=[''], type='info', text=True, class_=\"mt-5\")"
   ]
  },
  {
   "cell_type": "code",
   "execution_count": null,
   "metadata": {},
   "outputs": [],
   "source": [
    "#validate the selected data\n",
    "gee_process_btn = v.Btn(\n",
    "    color='primary', \n",
    "    children=[\n",
    "        v.Icon(left=True, children=['mdi-cogs']),\n",
    "        'Run GEE process'\n",
    "    ]\n",
    ")\n",
    "gee_validate_data = v.Container(children=[gee_process_btn])\n",
    "\n",
    "def gee_on_click(widget, event, data):\n",
    "    \n",
    "    global gee_process_output\n",
    "    global asset_name\n",
    "    global year\n",
    "    global gee_process_btn\n",
    "    \n",
    "    if asset_name == None or year == None:\n",
    "        utils.displayIO(gee_process_output, 'error', NO_INPUT)\n",
    "        return \n",
    "    \n",
    "    #do something \n",
    "    utils.toggleLoading(gee_process_btn)\n",
    "    run_gee_process.run_GEE_process(asset_name, year, gee_process_output)\n",
    "    utils.toggleLoading(gee_process_btn)\n",
    "\n",
    "gee_validate_data.on_event('click', gee_on_click)"
   ]
  },
  {
   "cell_type": "code",
   "execution_count": null,
   "metadata": {},
   "outputs": [],
   "source": [
    "#create the display \n",
    "inputs = v.Layout(\n",
    "    _metadata={'mount-id': 'data-input'},\n",
    "    row=True,\n",
    "    class_=\"pa-5\",\n",
    "    align_center=True, \n",
    "    children=[\n",
    "        v.Flex(xs12=True, children=[gee_validate_data]),\n",
    "        v.Flex(xs12=True, children=[gee_process_output])\n",
    "    ]\n",
    ")\n",
    "#inputs\n",
    "\n",
    "GEE_content_main =  v.Layout(\n",
    "    _metadata={'mount_id': 'gee_process_widget'},\n",
    "    row=True,\n",
    "    xs12=True,\n",
    "    align_center=True, \n",
    "    class_=\"ma-5\",\n",
    "    children=[\n",
    "        v.Card( \n",
    "            class_=\"pa-5\",\n",
    "            raised=True,\n",
    "            xs12=True,\n",
    "            children=[\n",
    "                v.Html(xs12=True, tag='h2', children=['Run the GEE process']),\n",
    "                v.Flex(xs12=True, lg6=True, children=[inputs]),   \n",
    "            ]\n",
    "        )\n",
    "    ]\n",
    ")\n",
    "GEE_content_main"
   ]
  },
  {
   "cell_type": "code",
   "execution_count": null,
   "metadata": {},
   "outputs": [],
   "source": []
  },
  {
   "cell_type": "code",
   "execution_count": null,
   "metadata": {},
   "outputs": [],
   "source": []
  }
 ],
 "metadata": {
  "kernelspec": {
   "display_name": "Python 3",
   "language": "python",
   "name": "python3"
  },
  "language_info": {
   "codemirror_mode": {
    "name": "ipython",
    "version": 3
   },
   "file_extension": ".py",
   "mimetype": "text/x-python",
   "name": "python",
   "nbconvert_exporter": "python",
   "pygments_lexer": "ipython3",
   "version": "3.6.9"
  }
 },
 "nbformat": 4,
 "nbformat_minor": 4
}
