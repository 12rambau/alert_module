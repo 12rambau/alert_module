{
 "cells": [
  {
   "cell_type": "code",
   "execution_count": null,
   "metadata": {},
   "outputs": [],
   "source": [
    "from scripts import gdrive\n",
    "from pathlib import Path\n",
    "import os"
   ]
  },
  {
   "cell_type": "code",
   "execution_count": null,
   "metadata": {},
   "outputs": [],
   "source": [
    "filename = 'COD_2020-10-01_2020-10-17_glad_alerts_dates'\n",
    "result_dir = str(Path().home().joinpath('alerts_results', 'COD'))\n",
    "\n",
    "os.path.isdir(result_dir)"
   ]
  },
  {
   "cell_type": "code",
   "execution_count": null,
   "metadata": {},
   "outputs": [],
   "source": [
    "drive_handler = gdrive.gdrive()\n",
    "files = drive_handler.get_files(filename)\n",
    "drive_handler.download_files(files, result_dir)"
   ]
  },
  {
   "cell_type": "code",
   "execution_count": null,
   "metadata": {
    "scrolled": false
   },
   "outputs": [],
   "source": [
    "from glob import glob\n",
    "from rasterio.plot import show\n",
    "import rasterio as rio\n",
    "\n",
    "pathname = f'{filename}*.tif'\n",
    "\n",
    "files = [file for file in glob(result_dir + pathname)]\n",
    "sources = [rio.open(file) for file in files]\n",
    " \n",
    "sources[0].profile"
   ]
  },
  {
   "cell_type": "code",
   "execution_count": null,
   "metadata": {},
   "outputs": [],
   "source": [
    "from rasterio.merge import merge\n",
    "    \n",
    "data, output_transform = merge(sources[:1])"
   ]
  },
  {
   "cell_type": "code",
   "execution_count": null,
   "metadata": {},
   "outputs": [],
   "source": [
    "out_meta = sources[0].meta.copy()    \n",
    "out_meta.update(\n",
    "    driver    = \"GTiff\",\n",
    "    height    =  data.shape[1],\n",
    "    width     =  data.shape[2],\n",
    "    transform = output_transform,\n",
    "    compress  = 'lzw'\n",
    ")\n",
    "    \n",
    "with rio.open(tmp_file, \"w\", **out_meta) as dest:\n",
    "    dest.write(data)"
   ]
  },
  {
   "cell_type": "code",
   "execution_count": null,
   "metadata": {},
   "outputs": [],
   "source": [
    "#manually close the files\n",
    "[src.close() for src in sources]"
   ]
  },
  {
   "cell_type": "code",
   "execution_count": null,
   "metadata": {},
   "outputs": [],
   "source": [
    "from datetime import datetime\n",
    "\n",
    "datetime.strptime('2020-10-17', '%Y-%m-%d').timetuple().tm_yday"
   ]
  },
  {
   "cell_type": "code",
   "execution_count": null,
   "metadata": {},
   "outputs": [],
   "source": []
  }
 ],
 "metadata": {
  "kernelspec": {
   "display_name": "Python 3",
   "language": "python",
   "name": "python3"
  },
  "language_info": {
   "codemirror_mode": {
    "name": "ipython",
    "version": 3
   },
   "file_extension": ".py",
   "mimetype": "text/x-python",
   "name": "python",
   "nbconvert_exporter": "python",
   "pygments_lexer": "ipython3",
   "version": "3.6.9"
  }
 },
 "nbformat": 4,
 "nbformat_minor": 4
}
