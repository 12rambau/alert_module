{
 "cells": [
  {
   "cell_type": "code",
   "execution_count": 3,
   "metadata": {},
   "outputs": [],
   "source": [
    "import numpy as np\n",
    "import os\n",
    "import matplotlib.pyplot as plt"
   ]
  },
  {
   "cell_type": "code",
   "execution_count": 4,
   "metadata": {},
   "outputs": [],
   "source": [
    "glad_dir = os.path.join(os.path.expanduser('~'), 'glad_results')+'/'\n",
    "alert_stats = glad_dir + \"stats_glad_2020_EK.txt\"\n",
    "data = np.loadtxt(alert_stats, delimiter=' ')"
   ]
  },
  {
   "cell_type": "code",
   "execution_count": null,
   "metadata": {},
   "outputs": [],
   "source": []
  },
  {
   "cell_type": "code",
   "execution_count": 5,
   "metadata": {},
   "outputs": [
    {
     "data": {
      "image/png": "[encoded data removed]",
      "text/plain": [
       "<Figure size 432x288 with 1 Axes>"
      ]
     },
     "metadata": {
      "needs_background": "light"
     },
     "output_type": "display_data"
    }
   ],
   "source": [
    "#tracer les distributions empiriques\n",
    "Y_5 = data[:,5]\n",
    "Y_5 = np.ma.masked_equal(Y_5,0).compressed()\n",
    "Y_5 = np.sort(Y_5)\n",
    "X_5 = []\n",
    "cpt = 0\n",
    "for Y in Y_5:\n",
    "    X_5.append(cpt)\n",
    "    cpt+=1\n",
    "\n",
    "Y_4 = data[:,4]\n",
    "Y_4 = np.ma.masked_equal(Y_4,0).compressed()\n",
    "Y_4 = np.sort(Y_4)\n",
    "X_4 = []\n",
    "cpt = 0\n",
    "for Y in Y_4:\n",
    "    X_4.append(cpt)\n",
    "    cpt+=1\n",
    "    \n",
    "#diplay the graph \n",
    "plt.plot(X_4, Y_4, label='Y_4')\n",
    "plt.plot(X_5, Y_5, label='Y_5')\n",
    "plt.legend()\n",
    "plt.show()"
   ]
  },
  {
   "cell_type": "code",
   "execution_count": 41,
   "metadata": {},
   "outputs": [
    {
     "data": {
      "image/png": "[encoded data removed]",
      "text/plain": [
       "<Figure size 432x288 with 1 Axes>"
      ]
     },
     "metadata": {
      "needs_background": "light"
     },
     "output_type": "display_data"
    }
   ],
   "source": [
    "#tracer histogrammes\n",
    " \n",
    "bins = []\n",
    "for i in range(1000):\n",
    "    bins.append(i*10)\n",
    "\n",
    "Y_5 = data[:,5]\n",
    "Y_5 = np.ma.masked_equal(Y_5,0).compressed()\n",
    "maxY5 = np.amax(Y_5)\n",
    "\n",
    "Y_4 = data[:,4]\n",
    "Y_4 = np.ma.masked_equal(Y_4,0).compressed()\n",
    "maxY4 = np.amax(Y_4) \n",
    "\n",
    "plt.hist([Y_5, Y_4], label=['Y_5', 'Y_4'], color=[\"#C26449\", \"#59C266\"], weights=[Y_5, Y_4], bins=bins, density=True, histtype='bar', stacked=True)\n",
    "plt.xlim(left= 0, right=max(maxY5, maxY4))\n",
    "plt.yscale('log')\n",
    "plt.legend(loc='upper right')\n",
    "plt.title('Alert distribution')\n",
    "plt.xlabel('patch size (px)')\n",
    "plt.ylabel('number of pixels')\n",
    "plt.show()"
   ]
  },
  {
   "cell_type": "code",
   "execution_count": null,
   "metadata": {},
   "outputs": [],
   "source": []
  }
 ],
 "metadata": {
  "kernelspec": {
   "display_name": "Python 3",
   "language": "python",
   "name": "python3"
  },
  "language_info": {
   "codemirror_mode": {
    "name": "ipython",
    "version": 3
   },
   "file_extension": ".py",
   "mimetype": "text/x-python",
   "name": "python",
   "nbconvert_exporter": "python",
   "pygments_lexer": "ipython3",
   "version": "3.6.9"
  }
 },
 "nbformat": 4,
 "nbformat_minor": 4
}
