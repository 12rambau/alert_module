{
 "cells": [
  {
   "cell_type": "code",
   "execution_count": null,
   "metadata": {},
   "outputs": [],
   "source": [
    "#load modules \n",
    "import ee\n",
    "import geemap\n",
    "import ipywidgets as widgets\n",
    "from ipywidgets import HBox, Label\n",
    "from datetime import datetime\n",
    "import csv"
   ]
  },
  {
   "cell_type": "code",
   "execution_count": 1,
   "metadata": {},
   "outputs": [],
   "source": [
    "# Prevent discovery cache Warning\n",
    "import logging\n",
    "logging.getLogger('googleapiclient.discovery_cache').setLevel(logging.ERROR)"
   ]
  },
  {
   "cell_type": "code",
   "execution_count": 2,
   "metadata": {},
   "outputs": [
    {
     "ename": "NameError",
     "evalue": "name 'ee' is not defined",
     "output_type": "error",
     "traceback": [
      "\u001b[0;31m---------------------------------------------------------------------------\u001b[0m",
      "\u001b[0;31mNameError\u001b[0m                                 Traceback (most recent call last)",
      "\u001b[0;32m<ipython-input-2-ed7a52c5a0d6>\u001b[0m in \u001b[0;36m<module>\u001b[0;34m\u001b[0m\n\u001b[1;32m      1\u001b[0m \u001b[0;31m#initialize earth engine\u001b[0m\u001b[0;34m\u001b[0m\u001b[0;34m\u001b[0m\u001b[0;34m\u001b[0m\u001b[0m\n\u001b[0;32m----> 2\u001b[0;31m \u001b[0mee\u001b[0m\u001b[0;34m.\u001b[0m\u001b[0mInitialize\u001b[0m\u001b[0;34m(\u001b[0m\u001b[0;34m)\u001b[0m\u001b[0;34m\u001b[0m\u001b[0;34m\u001b[0m\u001b[0m\n\u001b[0m",
      "\u001b[0;31mNameError\u001b[0m: name 'ee' is not defined"
     ]
    }
   ],
   "source": [
    "#initialize earth engine\n",
    "ee.Initialize()"
   ]
  },
  {
   "cell_type": "code",
   "execution_count": null,
   "metadata": {},
   "outputs": [],
   "source": [
    "#define constants\n",
    "BUTTON_STYLE = {'button_color':'rgba(28,28,28,.99)'}\n",
    "BUTTON_LAYOUT = widgets.Layout(width='175px')\n",
    "BASEMAP = 'CartoDB.DarkMatter'\n",
    "CENTER = [4.260202, 15.243700]\n",
    "NOW = datetime.now()"
   ]
  },
  {
   "cell_type": "code",
   "execution_count": null,
   "metadata": {},
   "outputs": [],
   "source": [
    "#functions\n",
    "def download_to_disk(country_code, year, alerts):\n",
    "    \"\"\"download the tile to the GEE disk\"\"\"\n",
    "    task_config = {\n",
    "        'image':alerts,\n",
    "        'description':construct_filename(country_code, year),\n",
    "        'scale': 30,\n",
    "        'region':country.geometry(),\n",
    "        'maxPixels': 1e10\n",
    "    }\n",
    "    \n",
    "    task = ee.batch.Export.image.toDrive(**task_config)\n",
    "    task.start()\n",
    "    \n",
    "    return task\n",
    "\n",
    "def create_FIPS_list():\n",
    "    \"\"\"create the list of the country code in the FIPS norm using the CSV file provided in utils\"\"\"\n",
    "    fips_list = []\n",
    "    with open('utils/FIPS_country_code.csv', newline='') as f:\n",
    "        reader = csv.reader(f)\n",
    "        for row in reader:\n",
    "            fips_list.append(row[0])\n",
    "        \n",
    "    return fips_list\n",
    "\n",
    "def get_alerts(country_code, year):\n",
    "    \"\"\" get the alerts from the GLAD project\"\"\"\n",
    "    global country\n",
    "    global alerts\n",
    "    \n",
    "    country = ee.FeatureCollection('USDOS/LSIB_SIMPLE/2017').filter(ee.Filter.eq('country_co', country_code))\n",
    "    all_alerts  = ee.ImageCollection('projects/glad/alert/UpdResult')\n",
    "    alerts = all_alerts.select('conf' + year[-2:]).mosaic().clip(country);\n",
    "    \n",
    "def construct_filename(country_code, year):\n",
    "    \"\"\"return the filename associated with the current task\"\"\"\n",
    "    \n",
    "    filename = 'alerts_' + country_code + '_' + year + '_' + NOW.strftime(\"%Y-%m-%d_%H:%M:%S\")\n",
    "    \n",
    "    return filename"
   ]
  },
  {
   "cell_type": "code",
   "execution_count": 3,
   "metadata": {},
   "outputs": [
    {
     "ename": "NameError",
     "evalue": "name 'widgets' is not defined",
     "output_type": "error",
     "traceback": [
      "\u001b[0;31m---------------------------------------------------------------------------\u001b[0m",
      "\u001b[0;31mNameError\u001b[0m                                 Traceback (most recent call last)",
      "\u001b[0;32m<ipython-input-3-44aea5ce1b53>\u001b[0m in \u001b[0;36m<module>\u001b[0;34m\u001b[0m\n\u001b[1;32m      1\u001b[0m \u001b[0;31m#template\u001b[0m\u001b[0;34m\u001b[0m\u001b[0;34m\u001b[0m\u001b[0;34m\u001b[0m\u001b[0m\n\u001b[0;32m----> 2\u001b[0;31m country_code_field =  widgets.Dropdown(\n\u001b[0m\u001b[1;32m      3\u001b[0m     \u001b[0moptions\u001b[0m\u001b[0;34m=\u001b[0m\u001b[0mcreate_FIPS_list\u001b[0m\u001b[0;34m(\u001b[0m\u001b[0;34m)\u001b[0m\u001b[0;34m,\u001b[0m\u001b[0;34m\u001b[0m\u001b[0;34m\u001b[0m\u001b[0m\n\u001b[1;32m      4\u001b[0m     \u001b[0mplaceholder\u001b[0m\u001b[0;34m=\u001b[0m\u001b[0;34m'Country/province'\u001b[0m\u001b[0;34m,\u001b[0m\u001b[0;34m\u001b[0m\u001b[0;34m\u001b[0m\u001b[0m\n\u001b[1;32m      5\u001b[0m )\n",
      "\u001b[0;31mNameError\u001b[0m: name 'widgets' is not defined"
     ]
    }
   ],
   "source": [
    "#template\n",
    "country_code_field =  widgets.Dropdown(\n",
    "    options=create_FIPS_list(),\n",
    "    placeholder='Country/province',\n",
    ")\n",
    "\n",
    "year_field =  widgets.Dropdown(\n",
    "    options=['2020','2019'],\n",
    "    value='2019'\n",
    ")\n",
    "\n",
    "output = widgets.Output()\n",
    "\n",
    "button = widgets.Button(\n",
    "    description=\"Use these input!\"\n",
    ")\n",
    "button.button_style = 'info'\n",
    "button.style = BUTTON_STYLE\n",
    "button.layout = BUTTON_LAYOUT"
   ]
  },
  {
   "cell_type": "code",
   "execution_count": 4,
   "metadata": {},
   "outputs": [],
   "source": [
    "#define the function used to display the process\n",
    "def on_button_clicked(b):\n",
    "    \n",
    "    global country_code\n",
    "    global year\n",
    "    \n",
    "    with output:\n",
    "        button.disabled=True\n",
    "        country_code_field.disabled=True\n",
    "        year_field.disabled=True\n",
    "        \n",
    "        country_code = country_code_field.value.upper()\n",
    "        year = year_field.value\n",
    "        \n",
    "        display_map(country_code)\n",
    "        get_alerts(country_code, year)\n",
    "        task = download_to_disk(country_code, year, alerts)\n",
    "        \n",
    "def add_layer_to_map(aoi_ee):\n",
    "    mapa.clear_layers()\n",
    "    mapa.add_basemap(BASEMAP)\n",
    "    mapa.addLayer(aoi, {'color': 'FF0000'})\n",
    "    mapa.centerObject(aoi, zoom=3)\n",
    "        \n",
    "def display_map(country_code):\n",
    "    global mapa\n",
    "    global aoi\n",
    "    \n",
    "    mapa = geemap.Map(center=CENTER)\n",
    "    mapa.clear_layers()\n",
    "    mapa.clear_controls()\n",
    "    mapa.add_basemap(BASEMAP)\n",
    "    mapa.layout.height='200px'\n",
    "    display(mapa)\n",
    "    \n",
    "    aoi = ee.FeatureCollection('USDOS/LSIB_SIMPLE/2017').filter(ee.Filter.eq('country_co', country_code))\n",
    "    add_layer_to_map(aoi)"
   ]
  },
  {
   "cell_type": "code",
   "execution_count": null,
   "metadata": {},
   "outputs": [],
   "source": [
    "#run\n",
    "ui1 = HBox([Label('contry code: '), country_code_field])\n",
    "ui2 = HBox([Label('year: '), year_field])\n",
    "button.on_click(on_button_clicked)\n",
    "display(HBox([ui1, ui2, button]))\n",
    "display(output)"
   ]
  }
 ],
 "metadata": {
  "kernelspec": {
   "display_name": "Python 3",
   "language": "python",
   "name": "python3"
  }
 },
 "nbformat": 4,
 "nbformat_minor": 4
}
