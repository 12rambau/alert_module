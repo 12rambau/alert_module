{
 "cells": [
  {
   "cell_type": "code",
   "execution_count": null,
   "metadata": {},
   "outputs": [],
   "source": [
    "#load modules \n",
    "import ee\n",
    "import ipywidgets as widgets\n",
    "from ipywidgets import HBox\n",
    "from scripts import gdrive"
   ]
  },
  {
   "cell_type": "code",
   "execution_count": null,
   "metadata": {},
   "outputs": [],
   "source": [
    "# Prevent discovery cache Warning\n",
    "import logging\n",
    "logging.getLogger('googleapiclient.discovery_cache').setLevel(logging.ERROR)"
   ]
  },
  {
   "cell_type": "code",
   "execution_count": null,
   "metadata": {},
   "outputs": [],
   "source": [
    "#initialize earth engine\n",
    "ee.Initialize()"
   ]
  },
  {
   "cell_type": "code",
   "execution_count": null,
   "metadata": {},
   "outputs": [],
   "source": [
    "#define constants\n",
    "NO_INPUT = \"No input have been selected, provide them through step 1.\"\n",
    "BUTTON_COLOR = 'lightgreen' "
   ]
  },
  {
   "cell_type": "code",
   "execution_count": null,
   "metadata": {},
   "outputs": [],
   "source": [
    "#functions\n",
    "def download_to_disk(filename, alerts, country):\n",
    "    \"\"\"download the tile to the GEE disk\"\"\"\n",
    "    task_config = {\n",
    "        'image':alerts,\n",
    "        'description':filename,\n",
    "        'scale': 30,\n",
    "        'region':country.geometry(),\n",
    "        'maxPixels': 1e10\n",
    "    }\n",
    "    \n",
    "    task = ee.batch.Export.image.toDrive(**task_config)\n",
    "    task.start()\n",
    "    \n",
    "    return task\n",
    "\n",
    "def get_alerts(country_code, year):\n",
    "    \"\"\" get the alerts from the GLAD project\"\"\"\n",
    "    \n",
    "    country = ee.FeatureCollection('USDOS/LSIB_SIMPLE/2017').filter(ee.Filter.eq('country_co', country_code))\n",
    "    all_alerts  = ee.ImageCollection('projects/glad/alert/UpdResult')\n",
    "    alerts = all_alerts.select('conf' + year[-2:]).mosaic().clip(country);\n",
    "    \n",
    "    return (country, alerts)\n",
    "    \n",
    "def launch_task(country_code, year):\n",
    "    \n",
    "    #search for the task in task_list\n",
    "    filename = construct_filename(country_code, year)\n",
    "    tasks_list = ee.batch.Task.list()\n",
    "    current_task = ''\n",
    "    for task in tasks_list:\n",
    "        if task.config['description'] == filename:\n",
    "            current_task = task\n",
    "            break\n",
    "            \n",
    "    #launch the task in GEE \n",
    "    if current_task == '':\n",
    "        country, alerts = get_alerts(country_code, year)\n",
    "        current_task = download_to_disk(filename, alerts, country)\n",
    "        print (\"the task {0} has been launched on your GEE account\".format(filename))\n",
    "        return current_task\n",
    "    \n",
    "    #give insight if it's still running \n",
    "    if current_task.state == \"RUNNING\":\n",
    "        print (\"the task {0} is currently running on the GEE servers ....\".format(filename))\n",
    "        return current_task\n",
    "    \n",
    "    #say when it's completed\n",
    "    if current_task.state == \"COMPLETED\":\n",
    "        print('the task {0} has already been completed and is available on your Gdrive.'.format(filename))\n",
    "        return current_task\n",
    "    \n",
    "def construct_filename(country_code, year):\n",
    "    \"\"\"return the filename associated with the current task\"\"\"\n",
    "    \n",
    "    filename = 'alerts_' + country_code + '_' + year\n",
    "    \n",
    "    return filename\n",
    "\n",
    "def check_for_inputs():\n",
    "    \"\"\"check if the inputs exist and have a value\"\"\"\n",
    "    \n",
    "    #I just need to check for existance as the first cell has a default value\n",
    "    return ('country_code' in globals() and 'year' in globals())"
   ]
  },
  {
   "cell_type": "code",
   "execution_count": null,
   "metadata": {},
   "outputs": [],
   "source": [
    "#template\n",
    "output = widgets.Output()\n",
    "\n",
    "button_process = widgets.Button(description=\"Start GEE process!\")\n",
    "button_process.style.button_color = BUTTON_COLOR"
   ]
  },
  {
   "cell_type": "code",
   "execution_count": null,
   "metadata": {},
   "outputs": [],
   "source": [
    "#define the function used to display the process\n",
    "def display_inputs(country_code, year):\n",
    "    print (\"You have selected the data from {0} for the year {1}.\".format(country_code, year))\n",
    "    \n",
    "nb_process_click = 0    \n",
    "def on_button_clicked(b):\n",
    "    \n",
    "    global country_code\n",
    "    global year\n",
    "    global nb_process_click\n",
    "    \n",
    "    \n",
    "    with output:\n",
    "        button_process.description = \"Check status\"\n",
    "        \n",
    "        if check_for_inputs():\n",
    "            if nb_process_click < 1:\n",
    "                display_inputs(country_code, year)\n",
    "            launch_task(country_code, year)\n",
    "            \n",
    "        else:\n",
    "            print(NO_INPUT)\n",
    "            \n",
    "    nb_process_click += 1"
   ]
  },
  {
   "cell_type": "code",
   "execution_count": 1,
   "metadata": {},
   "outputs": [
    {
     "ename": "NameError",
     "evalue": "name 'button_process' is not defined",
     "output_type": "error",
     "traceback": [
      "\u001b[0;31m---------------------------------------------------------------------------\u001b[0m",
      "\u001b[0;31mNameError\u001b[0m                                 Traceback (most recent call last)",
      "\u001b[0;32m<ipython-input-1-6dceaf4fdfc4>\u001b[0m in \u001b[0;36m<module>\u001b[0;34m\u001b[0m\n\u001b[1;32m      1\u001b[0m \u001b[0;31m#run\u001b[0m\u001b[0;34m\u001b[0m\u001b[0;34m\u001b[0m\u001b[0;34m\u001b[0m\u001b[0m\n\u001b[0;32m----> 2\u001b[0;31m \u001b[0mbutton_process\u001b[0m\u001b[0;34m.\u001b[0m\u001b[0mon_click\u001b[0m\u001b[0;34m(\u001b[0m\u001b[0mon_button_clicked\u001b[0m\u001b[0;34m)\u001b[0m\u001b[0;34m\u001b[0m\u001b[0;34m\u001b[0m\u001b[0m\n\u001b[0m\u001b[1;32m      3\u001b[0m \u001b[0miu_process\u001b[0m \u001b[0;34m=\u001b[0m \u001b[0mHBox\u001b[0m\u001b[0;34m(\u001b[0m\u001b[0;34m[\u001b[0m\u001b[0mbutton_process\u001b[0m\u001b[0;34m]\u001b[0m\u001b[0;34m)\u001b[0m\u001b[0;34m\u001b[0m\u001b[0;34m\u001b[0m\u001b[0m\n\u001b[1;32m      4\u001b[0m \u001b[0mdisplay\u001b[0m\u001b[0;34m(\u001b[0m\u001b[0miu_process\u001b[0m\u001b[0;34m)\u001b[0m\u001b[0;34m\u001b[0m\u001b[0;34m\u001b[0m\u001b[0m\n\u001b[1;32m      5\u001b[0m \u001b[0mdisplay\u001b[0m\u001b[0;34m(\u001b[0m\u001b[0moutput\u001b[0m\u001b[0;34m)\u001b[0m\u001b[0;34m\u001b[0m\u001b[0;34m\u001b[0m\u001b[0m\n",
      "\u001b[0;31mNameError\u001b[0m: name 'button_process' is not defined"
     ]
    }
   ],
   "source": [
    "#run\n",
    "button_process.on_click(on_button_clicked)\n",
    "iu_process = HBox([button_process])\n",
    "display(iu_process)\n",
    "display(output)"
   ]
  }
 ],
 "metadata": {
  "kernelspec": {
   "display_name": "Python 3",
   "language": "python",
   "name": "python3"
  },
  "language_info": {
   "codemirror_mode": {
    "name": "ipython",
    "version": 3
   },
   "file_extension": ".py",
   "mimetype": "text/x-python",
   "name": "python",
   "nbconvert_exporter": "python",
   "pygments_lexer": "ipython3",
   "version": "3.6.9"
  }
 },
 "nbformat": 4,
 "nbformat_minor": 4
}
