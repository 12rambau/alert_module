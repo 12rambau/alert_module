{
 "cells": [
  {
   "cell_type": "markdown",
   "metadata": {},
   "source": [
    "<center><h1>GLAD Alert module</h1></center>\n",
    "\n",
    "this module is a 3 steps process that retreive and compute the GLAD alerts ( [Hansen et al. (2016) Humid tropical forest disturbance alerts using Landsat data. Environmental Research Letters 11 034008](https://iopscience.iop.org/article/10.1088/1748-9326/11/3/034008) ) on a selected country or province\n",
    "\n",
    "## Define the inputs\n",
    "In this first step you need to select a country using a [FIPS country_code](https://en.wikipedia.org/wiki/List_of_FIPS_country_codes) then a year. These inputs will be processed in the following steps."
   ]
  },
  {
   "cell_type": "code",
   "execution_count": 1,
   "metadata": {
    "scrolled": true
   },
   "outputs": [
    {
     "data": {
      "application/vnd.jupyter.widget-view+json": {
       "model_id": "797c2fd791d140238225c5ac14466b5b",
       "version_major": 2,
       "version_minor": 0
      },
      "text/plain": [
       "HBox(children=(HBox(children=(Label(value='Country/Province: '), Dropdown(index=88, options={'Afghanistan': '\\…"
      ]
     },
     "metadata": {},
     "output_type": "display_data"
    },
    {
     "data": {
      "application/vnd.jupyter.widget-view+json": {
       "model_id": "0d595364db2a48878cb6aefbec523517",
       "version_major": 2,
       "version_minor": 0
      },
      "text/plain": [
       "Output()"
      ]
     },
     "metadata": {},
     "output_type": "display_data"
    }
   ],
   "source": [
    "%run 'glad_input.ipynb'"
   ]
  },
  {
   "cell_type": "markdown",
   "metadata": {},
   "source": [
    "## PROCESS the Alerts in GEE\n",
    "In this second step, the input provided in step 1 will be processed in Google earth engine servers to provide tiles of the confirmed GLAD alert in the selected area.  \n",
    "If the process have already been launched the user will be asked to continue on the third step.  \n",
    "By pressing the `check status` button you can get the current status of your task."
   ]
  },
  {
   "cell_type": "code",
   "execution_count": 2,
   "metadata": {},
   "outputs": [
    {
     "data": {
      "application/vnd.jupyter.widget-view+json": {
       "model_id": "3a912a155a7a4d55bdabc85c3f1d071e",
       "version_major": 2,
       "version_minor": 0
      },
      "text/plain": [
       "HBox(children=(Button(description='Start GEE process!', style=ButtonStyle(button_color='lightgreen')),))"
      ]
     },
     "metadata": {},
     "output_type": "display_data"
    },
    {
     "data": {
      "application/vnd.jupyter.widget-view+json": {
       "model_id": "bcf94a9fb0d04c6aae1176f2996565c5",
       "version_major": 2,
       "version_minor": 0
      },
      "text/plain": [
       "Output()"
      ]
     },
     "metadata": {},
     "output_type": "display_data"
    }
   ],
   "source": [
    "%run 'glad_process.ipynb'"
   ]
  },
  {
   "cell_type": "markdown",
   "metadata": {},
   "source": [
    "## PostPRocess the alerts on SEPAL\n",
    "\n",
    "after verifying that the task is completed on [Google earth engine drive](https://code.earthengine.google.com/#), launching this third cell will import the files to a `~/glad_result` folder in your Sepal environment. These files will be merged to provide a single map of the GLAD alerts on the selected country. Using this map, you'll create a output file containing the surface in pixel of each patch of Glad Alert and its classification (confirmed, likely). The tool provide some small visualisation of the data by diplaying the distribution of the GLAD Alert on the AOI."
   ]
  },
  {
   "cell_type": "code",
   "execution_count": 3,
   "metadata": {},
   "outputs": [
    {
     "data": {
      "application/vnd.jupyter.widget-view+json": {
       "model_id": "0e2667025cf34d408f38cad18edd8205",
       "version_major": 2,
       "version_minor": 0
      },
      "text/plain": [
       "HBox(children=(Button(description='Start SEPAL process!', style=ButtonStyle(button_color='lightgreen')),))"
      ]
     },
     "metadata": {},
     "output_type": "display_data"
    },
    {
     "data": {
      "application/vnd.jupyter.widget-view+json": {
       "model_id": "6f728db53c234349bd77dd417cff1d8a",
       "version_major": 2,
       "version_minor": 0
      },
      "text/plain": [
       "Output()"
      ]
     },
     "metadata": {},
     "output_type": "display_data"
    }
   ],
   "source": [
    "%run 'glad_postprocess.ipynb'"
   ]
  }
 ],
 "metadata": {
  "kernelspec": {
   "display_name": "Python 3",
   "language": "python",
   "name": "python3"
  },
  "language_info": {
   "codemirror_mode": {
    "name": "ipython",
    "version": 3
   },
   "file_extension": ".py",
   "mimetype": "text/x-python",
   "name": "python",
   "nbconvert_exporter": "python",
   "pygments_lexer": "ipython3",
   "version": "3.6.9"
  }
 },
 "nbformat": 4,
 "nbformat_minor": 4
}
