{
 "cells": [
  {
   "cell_type": "code",
   "execution_count": null,
   "metadata": {},
   "outputs": [],
   "source": [
    "%%capture\n",
    "import sys\n",
    "!{sys.executable} -m pip install 'sepal-ui>=0.5-beta'"
   ]
  },
  {
   "cell_type": "code",
   "execution_count": null,
   "metadata": {},
   "outputs": [],
   "source": [
    "from sepal_ui import widgetFactory as wf\n",
    "from sepal_ui import widgetBinding as wb"
   ]
  },
  {
   "cell_type": "code",
   "execution_count": null,
   "metadata": {},
   "outputs": [],
   "source": [
    "#create an appBar \n",
    "ga_appBar, ga_appBar_btn = wf.AppBar('GLAD alert module')"
   ]
  },
  {
   "cell_type": "code",
   "execution_count": null,
   "metadata": {},
   "outputs": [],
   "source": [
    "#create a footer \n",
    "ga_footer = wf.Footer()"
   ]
  },
  {
   "cell_type": "code",
   "execution_count": null,
   "metadata": {},
   "outputs": [],
   "source": [
    "#add tiles \n",
    "%run 'aoi_selector_ui.ipynb'\n",
    "%run 'gee_process_ui.ipynb'\n",
    "%run 'sepal_process_ui.ipynb'\n",
    "%run 'about_ui.ipynb'\n",
    "\n",
    "ga_content = [\n",
    "    ga_aoi,\n",
    "    ga_gee,\n",
    "    ga_sepal,\n",
    "    ga_results,\n",
    "    ga_about,\n",
    "    ga_disclaimer\n",
    "]"
   ]
  },
  {
   "cell_type": "code",
   "execution_count": null,
   "metadata": {},
   "outputs": [],
   "source": [
    "#select the tile to display first \n",
    "select = 'aoi_widget' #id of the tile you want to display\n",
    "wf.hideCards(select, ga_content)"
   ]
  },
  {
   "cell_type": "code",
   "execution_count": null,
   "metadata": {},
   "outputs": [],
   "source": [
    "#create a drawer \n",
    "item_aoi = wf.DrawerItem('AOI selection', 'mdi-map-marker-check', card=\"aoi_widget\")\n",
    "item_gee = wf.DrawerItem('Retrieve alerts', 'mdi-cogs', card=\"gee_widget\")\n",
    "item_sepal = wf.DrawerItem('Postprocess', 'mdi-export', card=\"sepal_widget\")\n",
    "item_result = wf.DrawerItem('Results', 'mdi-chart-bar', card=\"results_widget\")\n",
    "item_about = wf.DrawerItem('About', 'mdi-help-circle', card=\"about_widget\")\n",
    "\n",
    "code_link = \"https://github.com/openforis/glad_alerts\"\n",
    "wiki_link = \"https://github.com/openforis/glad_alerts/blob/master/doc/doc.md\"\n",
    "issue_link = \"https://github.com/openforis/glad_alerts/issues/new/choose\"\n",
    "\n",
    "items = [\n",
    "    item_aoi,\n",
    "    item_gee,\n",
    "    item_sepal,\n",
    "    item_result,\n",
    "    item_about\n",
    "]\n",
    "\n",
    "ga_drawer = wf.NavDrawer(items, code = code_link, wiki = wiki_link, issue = issue_link)"
   ]
  },
  {
   "cell_type": "code",
   "execution_count": null,
   "metadata": {},
   "outputs": [],
   "source": [
    "#build the app \n",
    "ga_app = wf.App(\n",
    "    tiles=ga_content, \n",
    "    appBar=ga_appBar, \n",
    "    footer=ga_footer, \n",
    "    navDrawer=ga_drawer\n",
    ")[0]"
   ]
  },
  {
   "cell_type": "code",
   "execution_count": null,
   "metadata": {},
   "outputs": [],
   "source": [
    "#bind the components together\n",
    "wb.displayDrawer(ga_drawer, ga_appBar_btn) #drawer \n",
    "for item in items:                             #drawer clickable buttons\n",
    "    wb.display_tile(item, ga_content)"
   ]
  },
  {
   "cell_type": "code",
   "execution_count": null,
   "metadata": {},
   "outputs": [],
   "source": [
    "#display the app\n",
    "ga_app"
   ]
  }
 ],
 "metadata": {
  "kernelspec": {
   "display_name": "Python 3",
   "language": "python",
   "name": "python3"
  },
  "language_info": {
   "codemirror_mode": {
    "name": "ipython",
    "version": 3
   },
   "file_extension": ".py",
   "mimetype": "text/x-python",
   "name": "python",
   "nbconvert_exporter": "python",
   "pygments_lexer": "ipython3",
   "version": "3.6.9"
  }
 },
 "nbformat": 4,
 "nbformat_minor": 4
}
