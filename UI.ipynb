{
 "cells": [
  {
   "cell_type": "markdown",
   "metadata": {},
   "source": [
    "<center><h1>GlAD Alert module</h1></center>\n",
    "\n",
    "this module is a 2 steps process that retreive and compute the GLAD alerts ( [Hansen et al. (2016) Humid tropical forest disturbance alerts using Landsat data. Environmental Research Letters 11 034008](https://iopscience.iop.org/article/10.1088/1748-9326/11/3/034008) ) on a selected country or province\n",
    "\n",
    "## PROCESS the Alerts in GEE\n",
    "\n",
    " In this first step select a country using a [FIPS country_code](https://en.wikipedia.org/wiki/List_of_FIPS_country_codes) then a year. These input will be processed on Google earth engine servers to provide tiles of the confirmed GLAD alert in the selected area. \n"
   ]
  },
  {
   "cell_type": "code",
   "execution_count": 1,
   "metadata": {},
   "outputs": [
    {
     "data": {
      "application/vnd.jupyter.widget-view+json": {
       "model_id": "b450b9f89c214c3e8121a9d87adc0760",
       "version_major": 2,
       "version_minor": 0
      },
      "text/plain": [
       "HBox(children=(HBox(children=(Label(value='contry code: '), Dropdown(options=('\\ufeffAF', 'AX', 'AL', 'AG', 'A…"
      ]
     },
     "metadata": {},
     "output_type": "display_data"
    },
    {
     "data": {
      "application/vnd.jupyter.widget-view+json": {
       "model_id": "a5491c582a8b448b9b11f5ee30246ce9",
       "version_major": 2,
       "version_minor": 0
      },
      "text/plain": [
       "Output()"
      ]
     },
     "metadata": {},
     "output_type": "display_data"
    }
   ],
   "source": [
    "%run 'glad_process.ipynb'"
   ]
  },
  {
   "cell_type": "markdown",
   "metadata": {},
   "source": [
    "## PostPRocess the alerts on SEPAL\n",
    "\n",
    "after verifying that the task is completed on [Google earth engine drive](https://code.earthengine.google.com/#), launching this second cell wil import the files to a `~/glad_result` folder in your Sepal environment. This files will be merged to provide a single map of the GLAD alerts on the selected country. Using this map, you'll create a stat output."
   ]
  },
  {
   "cell_type": "code",
   "execution_count": 2,
   "metadata": {},
   "outputs": [
    {
     "name": "stdout",
     "output_type": "stream",
     "text": [
      "\n",
      "Processing file     1 of     1,  0.000% completed in 0 minutes.\n",
      "Filename: /home/prambaud/glad_results/alerts_EK_2019_2020-06-30_07:28:36.tif\n",
      "File Size: 21209x19491x1\n",
      "Pixel Size: 0.000269 x -0.000269\n",
      "UL:(5.617615,3.788285)   LR:(11.333325,-1.464434)\n",
      "Copy 0,0,21209,19491 to 0,0,21209,19491.\n",
      "\n",
      "(null) /home/prambaud/glad_results/glad_2019_EK.tif /home/prambaud/glad_results/tmp_clump_2019_EK.tif\n",
      "Driver: GTiff/GeoTIFF\n",
      "Size is 21209, 19491\n",
      "Corner Coordinates:\n",
      "Upper Left  (   5.6176146,   3.7882854) (  5d37' 3.41\"E,  3d47'17.83\"N)\n",
      "Lower Left  (   5.6176146,  -1.4644336) (  5d37' 3.41\"E,  1d27'51.96\"S)\n",
      "Upper Right (  11.3333253,   3.7882854) ( 11d19'59.97\"E,  3d47'17.83\"N)\n",
      "Lower Right (  11.3333253,  -1.4644336) ( 11d19'59.97\"E,  1d27'51.96\"S)\n",
      "Center      (   8.4754700,   1.1619259) (  8d28'31.69\"E,  1d 9'42.93\"N)\n",
      "...........\n",
      "...........\n",
      "Done\n",
      "\n",
      "DoneClose\n",
      "\n",
      "Pixel Size = (0.00026949,-0.00026949)\n",
      "Corner Coordinates:\n",
      "Upper Left  (   5.6176146,   3.7882854) (  5d37' 3.41\"E,  3d47'17.83\"N)\n",
      "Lower Left  (   5.6176146,  -1.4644336) (  5d37' 3.41\"E,  1d27'51.96\"S)\n",
      "Upper Right (  11.3333253,   3.7882854) ( 11d19'59.97\"E,  3d47'17.83\"N)\n",
      "Lower Right (  11.3333253,  -1.4644336) ( 11d19'59.97\"E,  1d27'51.96\"S)\n",
      "Center      (   8.4754700,   1.1619259) (  8d28'31.69\"E,  1d 9'42.93\"N)\n",
      "Number of input bands is 1\n",
      "Driver: GTiff/GeoTIFF\n",
      "Size is 21209, 19491\n",
      "Coordinate System is:\n",
      "GEOGCS[\"WGS 84\",\n",
      "    DATUM[\"WGS_1984\",\n",
      "        SPHEROID[\"WGS 84\",6378137,298.257223563,\n",
      "            AUTHORITY[\"EPSG\",\"7030\"]],\n",
      "        AUTHORITY[\"EPSG\",\"6326\"]],\n",
      "    PRIMEM[\"Greenwich\",0],\n",
      "    UNIT[\"degree\",0.0174532925199433,\n",
      "        AUTHORITY[\"EPSG\",\"9122\"]],\n",
      "    AXIS[\"Latitude\",NORTH],\n",
      "    AXIS[\"Longitude\",EAST],\n",
      "    AUTHORITY[\"EPSG\",\"4326\"]]\n",
      "Segment Min val = 1\n",
      "Segment Max val = 2284\n",
      "Writing output\n",
      "\n",
      "DoneClose\n",
      "\n"
     ]
    }
   ],
   "source": [
    "%run 'glad_postprocess.ipynb'"
   ]
  },
  {
   "cell_type": "code",
   "execution_count": null,
   "metadata": {},
   "outputs": [],
   "source": []
  }
 ],
 "metadata": {
  "kernelspec": {
   "display_name": "Python 3",
   "language": "python",
   "name": "python3"
  },
  "language_info": {
   "codemirror_mode": {
    "name": "ipython",
    "version": 3
   },
   "file_extension": ".py",
   "mimetype": "text/x-python",
   "name": "python",
   "nbconvert_exporter": "python",
   "pygments_lexer": "ipython3",
   "version": "3.6.9"
  }
 },
 "nbformat": 4,
 "nbformat_minor": 4
}
