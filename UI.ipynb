{
 "cells": [
  {
   "cell_type": "code",
   "execution_count": null,
   "metadata": {},
   "outputs": [],
   "source": [
    "%%capture\n",
    "import sys\n",
    "!{sys.executable} -m pip install 'sepal-ui>=0.7-beta'"
   ]
  },
  {
   "cell_type": "code",
   "execution_count": null,
   "metadata": {},
   "outputs": [],
   "source": [
    "%%capture\n",
    "#prevent a rasterIo bug \n",
    "%set_env PROJ_LIB=/usr/share/proj"
   ]
  },
  {
   "cell_type": "code",
   "execution_count": null,
   "metadata": {},
   "outputs": [],
   "source": [
    "from sepal_ui import sepalwidgets as sw"
   ]
  },
  {
   "cell_type": "code",
   "execution_count": null,
   "metadata": {},
   "outputs": [],
   "source": [
    "#create an appBar \n",
    "ma_appBar = sw.AppBar('Alert module')"
   ]
  },
  {
   "cell_type": "code",
   "execution_count": null,
   "metadata": {},
   "outputs": [],
   "source": [
    "#create a footer \n",
    "ma_footer = sw.Footer()"
   ]
  },
  {
   "cell_type": "code",
   "execution_count": null,
   "metadata": {},
   "outputs": [],
   "source": [
    "#add tiles \n",
    "%run 'aoi_selector_ui.ipynb'\n",
    "%run 'import_alerts_ui.ipynb'\n",
    "%run 'sepal_process_ui.ipynb'\n",
    "%run 'about_ui.ipynb'\n",
    "\n",
    "ma_content = [\n",
    "    ma_aoi,\n",
    "    ma_alert_driver,\n",
    "    ma_sepal,\n",
    "    ma_results,\n",
    "    ma_about,\n",
    "    ma_disclaimer\n",
    "]"
   ]
  },
  {
   "cell_type": "code",
   "execution_count": null,
   "metadata": {},
   "outputs": [],
   "source": [
    "#create a drawer \n",
    "item_aoi = sw.DrawerItem('AOI selection', 'mdi-map-marker-check', card=\"aoi_widget\").display_tile(ma_content)\n",
    "item_gee = sw.DrawerItem('Retrieve alerts', 'mdi-cogs', card=\"driver_widget\").display_tile(ma_content)\n",
    "item_sepal = sw.DrawerItem('Postprocess', 'mdi-export', card=\"sepal_widget\").display_tile(ma_content)\n",
    "item_result = sw.DrawerItem('Results', 'mdi-chart-bar', card=\"results_widget\").display_tile(ma_content)\n",
    "item_about = sw.DrawerItem('About', 'mdi-help-circle', card=\"about_widget\").display_tile(ma_content)\n",
    "\n",
    "code_link = \"https://github.com/12rambau/alert_module\"\n",
    "wiki_link = \"https://github.com/12rambau/alert_module/blob/master/doc/doc.md\"\n",
    "issue_link = \"https://github.com/12rambau/alert_module/issues/new/choose\"\n",
    "\n",
    "items = [\n",
    "    item_aoi,\n",
    "    item_gee,\n",
    "    item_sepal,\n",
    "    item_result,\n",
    "    item_about\n",
    "]\n",
    "\n",
    "ma_drawer = sw.NavDrawer(items, code = code_link, wiki = wiki_link, issue = issue_link).display_drawer(ma_appBar.toggle_button)"
   ]
  },
  {
   "cell_type": "code",
   "execution_count": null,
   "metadata": {},
   "outputs": [],
   "source": [
    "select = 'aoi_widget'\n",
    "\n",
    "#build the app \n",
    "ma_app = sw.App(\n",
    "    tiles=ma_content, \n",
    "    appBar=ma_appBar, \n",
    "    footer=ma_footer, \n",
    "    navDrawer=ma_drawer\n",
    ").show_tile(select)"
   ]
  },
  {
   "cell_type": "code",
   "execution_count": null,
   "metadata": {},
   "outputs": [],
   "source": [
    "#display the app\n",
    "ma_app"
   ]
  },
  {
   "cell_type": "code",
   "execution_count": 3,
   "metadata": {},
   "outputs": [
    {
     "data": {
      "text/plain": [
       "737790"
      ]
     },
     "execution_count": 3,
     "metadata": {},
     "output_type": "execute_result"
    }
   ],
   "source": [
    "from datetime import datetime\n",
    "\n",
    "datetime.strptime('2020-12-31', '%Y-%m-%d').toordinal()"
   ]
  },
  {
   "cell_type": "code",
   "execution_count": null,
   "metadata": {},
   "outputs": [],
   "source": []
  }
 ],
 "metadata": {
  "kernelspec": {
   "display_name": "Python 3",
   "language": "python",
   "name": "python3"
  },
  "language_info": {
   "codemirror_mode": {
    "name": "ipython",
    "version": 3
   },
   "file_extension": ".py",
   "mimetype": "text/x-python",
   "name": "python",
   "nbconvert_exporter": "python",
   "pygments_lexer": "ipython3",
   "version": "3.6.9"
  }
 },
 "nbformat": 4,
 "nbformat_minor": 4
}
