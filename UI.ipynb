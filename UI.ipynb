{
 "cells": [
  {
   "cell_type": "markdown",
   "metadata": {},
   "source": [
    "<center><h1>GlAD Alert module</h1></center>\n",
    "\n",
    "this module is a 2 steps process that retreive and compute the GLAD alerts ( [Hansen et al. (2016) Humid tropical forest disturbance alerts using Landsat data. Environmental Research Letters 11 034008](https://iopscience.iop.org/article/10.1088/1748-9326/11/3/034008) ) on a selected country or province\n",
    "\n",
    "## PROCESS the Alerts in GEE\n",
    "\n",
    " In this first step select a country using a [FIPS country_code](https://en.wikipedia.org/wiki/List_of_FIPS_country_codes) then a year. These input will be processed on Google earth engine servers to provide tiles of the confirmed GLAD alert in the selected area. \n"
   ]
  },
  {
   "cell_type": "code",
   "execution_count": 1,
   "metadata": {},
   "outputs": [
    {
     "data": {
      "application/vnd.jupyter.widget-view+json": {
       "model_id": "5af148fbd36d48b98829b01795f08eef",
       "version_major": 2,
       "version_minor": 0
      },
      "text/plain": [
       "HBox(children=(HBox(children=(Label(value='contry code: '), Dropdown(options=('\\ufeffAF', 'AX', 'AL', 'AG', 'A…"
      ]
     },
     "metadata": {},
     "output_type": "display_data"
    },
    {
     "data": {
      "application/vnd.jupyter.widget-view+json": {
       "model_id": "17ccd3c8781344d0953ce67fe07c12bd",
       "version_major": 2,
       "version_minor": 0
      },
      "text/plain": [
       "Output()"
      ]
     },
     "metadata": {},
     "output_type": "display_data"
    }
   ],
   "source": [
    "%run 'glad_process.ipynb'"
   ]
  },
  {
   "cell_type": "markdown",
   "metadata": {},
   "source": [
    "## PostPRocess the alerts on SEPAL\n",
    "\n",
    "after verifying that the task is completed on [Google earth engine drive](https://code.earthengine.google.com/#), launching this second cell wil import the files to a `~/glad_result` folder in your Sepal environment. This files will be merged to provide a single map of the GLAD alerts on the selected country. Using this map, you'll create a \n",
    "- [x] import these files to your sepal local folder\n",
    "- [ ] delete the files from my GDrive folder ? \n",
    "- [x] execute the merging command\n",
    "- [ ] delete the files used for the merging command ?\n",
    "- [x] execute the clump command \n",
    "- [x] execute the calc command"
   ]
  },
  {
   "cell_type": "code",
   "execution_count": 2,
   "metadata": {},
   "outputs": [
    {
     "name": "stdout",
     "output_type": "stream",
     "text": [
      "\n",
      "Processing file     1 of     1,  0.000% completed in 0 minutes.\n",
      "Filename: /home/prambaud/glad_results/alerts_BE_2020_2020-06-29_14:03:58.tif\n",
      "File Size: 14340x7454x1\n",
      "Pixel Size: 0.000269 x -0.000269\n",
      "UL:(2.543220,51.505266)   LR:(6.407773,49.496454)\n",
      "Copy 0,0,14340,7454 to 0,0,14340,7454.\n",
      "\n",
      "(null) /home/prambaud/glad_results/glad_2020_BE.tif /home/prambaud/glad_results/tmp_clump_2020_BE.tif\n",
      "Driver: GTiff/GeoTIFF\n",
      "Size is 14340, 7454\n",
      "Corner Coordinates:\n",
      "Upper Left  (   2.5432204,  51.5052661) (  2d32'35.59\"E, 51d30'18.96\"N)\n",
      "Lower Left  (   2.5432204,  49.4964535) (  2d32'35.59\"E, 49d29'47.23\"N)\n",
      "Upper Right (   6.4077728,  51.5052661) (  6d24'27.98\"E, 51d30'18.96\"N)\n",
      "Lower Right (   6.4077728,  49.4964535) (  6d24'27.98\"E, 49d29'47.23\"N)\n",
      "Center      (   4.4754966,  50.5008598) (  4d28'31.79\"E, 50d30' 3.10\"N)\n",
      "...........\n",
      "...........\n",
      "Done\n",
      "\n",
      "DoneClose\n",
      "\n",
      "Pixel Size = (0.00026949,-0.00026949)\n",
      "Corner Coordinates:\n",
      "Upper Left  (   2.5432204,  51.5052661) (  2d32'35.59\"E, 51d30'18.96\"N)\n",
      "Lower Left  (   2.5432204,  49.4964535) (  2d32'35.59\"E, 49d29'47.23\"N)\n",
      "Upper Right (   6.4077728,  51.5052661) (  6d24'27.98\"E, 51d30'18.96\"N)\n",
      "Lower Right (   6.4077728,  49.4964535) (  6d24'27.98\"E, 49d29'47.23\"N)\n",
      "Center      (   4.4754966,  50.5008598) (  4d28'31.79\"E, 50d30' 3.10\"N)\n",
      "Number of input bands is 1\n",
      "Driver: GTiff/GeoTIFF\n",
      "Size is 14340, 7454\n",
      "Coordinate System is:\n",
      "GEOGCS[\"WGS 84\",\n",
      "    DATUM[\"WGS_1984\",\n",
      "        SPHEROID[\"WGS 84\",6378137,298.257223563,\n",
      "            AUTHORITY[\"EPSG\",\"7030\"]],\n",
      "        AUTHORITY[\"EPSG\",\"6326\"]],\n",
      "    PRIMEM[\"Greenwich\",0],\n",
      "    UNIT[\"degree\",0.0174532925199433,\n",
      "        AUTHORITY[\"EPSG\",\"9122\"]],\n",
      "    AXIS[\"Latitude\",NORTH],\n",
      "    AXIS[\"Longitude\",EAST],\n",
      "    AUTHORITY[\"EPSG\",\"4326\"]]\n",
      "Segment Min val = 1\n",
      "Segment Max val = 1\n",
      "Writing output\n",
      "\n",
      "DoneClose\n",
      "\n"
     ]
    }
   ],
   "source": [
    "%run 'glad_postprocess.ipynb'"
   ]
  },
  {
   "cell_type": "code",
   "execution_count": null,
   "metadata": {},
   "outputs": [],
   "source": []
  }
 ],
 "metadata": {
  "kernelspec": {
   "display_name": "Python 3",
   "language": "python",
   "name": "python3"
  },
  "language_info": {
   "codemirror_mode": {
    "name": "ipython",
    "version": 3
   },
   "file_extension": ".py",
   "mimetype": "text/x-python",
   "name": "python",
   "nbconvert_exporter": "python",
   "pygments_lexer": "ipython3",
   "version": "3.6.9"
  }
 },
 "nbformat": 4,
 "nbformat_minor": 4
}
