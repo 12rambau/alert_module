{
 "cells": [
  {
   "cell_type": "markdown",
   "metadata": {},
   "source": [
    "## PROCESS the Alerts in GEE\n",
    " \n",
    "- [x] select a country from the LSIB_SIMPLE 2017 list \n",
    "- [x] select a year\n",
    "- [x] A map will be showing the selected country \n",
    "- [x] the downloading on your Gdrive should start"
   ]
  },
  {
   "cell_type": "code",
   "execution_count": 1,
   "metadata": {},
   "outputs": [
    {
     "data": {
      "application/vnd.jupyter.widget-view+json": {
       "model_id": "5af148fbd36d48b98829b01795f08eef",
       "version_major": 2,
       "version_minor": 0
      },
      "text/plain": [
       "HBox(children=(HBox(children=(Label(value='contry code: '), Dropdown(options=('\\ufeffAF', 'AX', 'AL', 'AG', 'A…"
      ]
     },
     "metadata": {},
     "output_type": "display_data"
    },
    {
     "data": {
      "application/vnd.jupyter.widget-view+json": {
       "model_id": "17ccd3c8781344d0953ce67fe07c12bd",
       "version_major": 2,
       "version_minor": 0
      },
      "text/plain": [
       "Output()"
      ]
     },
     "metadata": {},
     "output_type": "display_data"
    }
   ],
   "source": [
    "%run 'glad_process.ipynb'"
   ]
  },
  {
   "cell_type": "markdown",
   "metadata": {},
   "source": [
    "## PostPRocess the alerts on SEPAL\n",
    "- [x] import these files to your sepal local folder\n",
    "- [ ] delete the files from my GDrive folder ? \n",
    "- [x] execute the merging command\n",
    "- [ ] delete the files used for the merging command ?\n",
    "- [x] execute the clump command \n",
    "- [x] execute the calc command"
   ]
  },
  {
   "cell_type": "code",
   "execution_count": null,
   "metadata": {},
   "outputs": [],
   "source": [
    "%run 'glad_postprocess.ipynb'"
   ]
  }
 ],
 "metadata": {
  "kernelspec": {
   "display_name": "Python 3",
   "language": "python",
   "name": "python3"
  },
  "language_info": {
   "codemirror_mode": {
    "name": "ipython",
    "version": 3
   },
   "file_extension": ".py",
   "mimetype": "text/x-python",
   "name": "python",
   "nbconvert_exporter": "python",
   "pygments_lexer": "ipython3",
   "version": "3.6.9"
  }
 },
 "nbformat": 4,
 "nbformat_minor": 4
}
