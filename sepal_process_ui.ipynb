{
 "cells": [
  {
   "cell_type": "code",
   "execution_count": 1,
   "metadata": {},
   "outputs": [],
   "source": [
    "from functools import partial \n",
    "\n",
    "from sepal_ui import widgetFactory as wf\n",
    "from sepal_ui import widgetBinding as wb\n",
    "from sepal_ui.scripts import utils as su\n",
    "import ipyvuetify as v\n",
    "\n",
    "from scripts import sepal_process as sepal_run \n",
    "from utils import messages as ms\n",
    "from utils import parameters as pm"
   ]
  },
  {
   "cell_type": "code",
   "execution_count": 2,
   "metadata": {},
   "outputs": [],
   "source": [
    "#class io as mutable object\n",
    "class Ga_sepal_io:\n",
    "    def __init__(self):\n",
    "        self.toto = None\n",
    "        \n",
    "ga_sepal_io = Ga_sepal_io()"
   ]
  },
  {
   "cell_type": "code",
   "execution_count": 3,
   "metadata": {},
   "outputs": [],
   "source": [
    "#output \n",
    "ga_sepal_output = wf.OutputWidget(ms.SEPAL_INTRO)\n",
    "\n",
    "#btn \n",
    "ga_sepal_btn = wf.ProcessBtn(ms.SEPAL_BTN)\n",
    "\n",
    "#process output \n",
    "ga_oft_output = wf.OutputWidget(ms.NO_PROCESS)\n",
    "\n",
    "#tile \n",
    "id_ = 'sepal_widget'\n",
    "title = 'Postprocess'\n",
    "\n",
    "ga_sepal = wf.Tile(\n",
    "    id_,\n",
    "    title,\n",
    "    btn=ga_sepal_btn,\n",
    "    output=ga_sepal_output,\n",
    "    inputs=['']\n",
    ")\n",
    "\n",
    "#add the oft_output\n",
    "ga_sepal.children[0].children[1].children = ga_sepal.children[0].children[1].children + [ga_oft_output]"
   ]
  },
  {
   "cell_type": "code",
   "execution_count": 4,
   "metadata": {},
   "outputs": [],
   "source": [
    "#create the tile with the links\n",
    "id_ = \"results_widget\"\n",
    "title = \"Results\"\n",
    "    \n",
    "ga_results = wf.Tile(id_, title, inputs=[''])"
   ]
  },
  {
   "cell_type": "code",
   "execution_count": 5,
   "metadata": {},
   "outputs": [],
   "source": [
    "#defin a custom function \n",
    "\n",
    "def process_start (widget, event, data, output, oft_output):\n",
    "    \n",
    "    asset = getattr(ga_aoi_io, 'assetId')\n",
    "    year = getattr(ga_gee_io, 'year')\n",
    "    \n",
    "    #toggle the loading button\n",
    "    su.toggleLoading(widget)\n",
    "    \n",
    "    #check inputs\n",
    "    if not wb.checkInput(asset, output, ms.NO_AOI): return su.toggleLoading(widget)\n",
    "    if not wb.checkInput(year, output, ms.NO_YEAR): return su.toggleLoading(widget)\n",
    "    \n",
    "    try:\n",
    "        alerts_link, stats_link = sepal_run.sepal_process(asset, year, output, oft_output)\n",
    "    except Exception as e: \n",
    "        alerts_link = None\n",
    "        su.displayIO(output, str(e), 'error')\n",
    "        \n",
    "    if alerts_link:\n",
    "        #display the layout in the tile\n",
    "        layout = sepal_run.display_results(asset,year, alerts_link)\n",
    "        ga_results.children[0].children = [ga_results.children[0].children[0]] + layout\n",
    "    \n",
    "    #toggle the loading button\n",
    "    su.toggleLoading(widget)\n",
    "    \n",
    "    return \n",
    "\n",
    "ga_sepal_btn.on_event('click', partial(\n",
    "    process_start, \n",
    "    output = ga_sepal_output,\n",
    "    oft_output = ga_oft_output\n",
    "))"
   ]
  },
  {
   "cell_type": "code",
   "execution_count": 6,
   "metadata": {
    "scrolled": false
   },
   "outputs": [
    {
     "data": {
      "application/vnd.jupyter.widget-view+json": {
       "model_id": "4cf7654631aa4cd897eb1c6e775491f3",
       "version_major": 2,
       "version_minor": 0
      },
      "text/plain": [
       "Layout(align_center=True, children=[Card(children=[Html(children=['Postprocess'], tag='h2'), Flex(children=[La…"
      ]
     },
     "metadata": {},
     "output_type": "display_data"
    },
    {
     "data": {
      "image/png": "[encoded data removed]",
      "text/plain": [
       "<Figure size 432x288 with 1 Axes>"
      ]
     },
     "metadata": {
      "needs_background": "light"
     },
     "output_type": "display_data"
    }
   ],
   "source": [
    "ga_sepal"
   ]
  },
  {
   "cell_type": "code",
   "execution_count": 7,
   "metadata": {},
   "outputs": [
    {
     "data": {
      "application/vnd.jupyter.widget-view+json": {
       "model_id": "cf85c9df871847b5bd292fb43e8ce9c9",
       "version_major": 2,
       "version_minor": 0
      },
      "text/plain": [
       "Layout(align_center=True, children=[Card(children=[Html(children=['Results'], tag='h2'), Flex(children=[Layout…"
      ]
     },
     "metadata": {},
     "output_type": "display_data"
    }
   ],
   "source": [
    "ga_results"
   ]
  }
 ],
 "metadata": {
  "kernelspec": {
   "display_name": "Python 3",
   "language": "python",
   "name": "python3"
  },
  "language_info": {
   "codemirror_mode": {
    "name": "ipython",
    "version": 3
   },
   "file_extension": ".py",
   "mimetype": "text/x-python",
   "name": "python",
   "nbconvert_exporter": "python",
   "pygments_lexer": "ipython3",
   "version": "3.6.9"
  }
 },
 "nbformat": 4,
 "nbformat_minor": 4
}
