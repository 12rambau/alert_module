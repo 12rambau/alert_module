{
 "cells": [
  {
   "cell_type": "code",
   "execution_count": null,
   "metadata": {},
   "outputs": [],
   "source": [
    "from functools import partial \n",
    "\n",
    "import ipyvuetify as v\n",
    "from sepal_ui import sepalwidgets as sw\n",
    "\n",
    "from utils import messages as ms\n",
    "from utils import parameters as pm\n",
    "from scripts import sepal_process as sp"
   ]
  },
  {
   "cell_type": "code",
   "execution_count": null,
   "metadata": {},
   "outputs": [],
   "source": [
    "ma_sepal_output = sw.Alert()\n",
    "ma_sepal_btn = sw.Btn(ms.SEPAL_BTN)\n",
    "\n",
    "#tile \n",
    "id_ = 'sepal_widget'\n",
    "title = 'Postprocess'\n",
    "\n",
    "ma_sepal = sw.Tile(\n",
    "    id_,\n",
    "    title,\n",
    "    btn=ma_sepal_btn,\n",
    "    output=ma_sepal_output,\n",
    "    inputs=['']\n",
    ")"
   ]
  },
  {
   "cell_type": "code",
   "execution_count": null,
   "metadata": {},
   "outputs": [],
   "source": [
    "#create the tile with the links\n",
    "id_ = \"results_widget\"\n",
    "title = \"Results\"\n",
    "    \n",
    "ma_results = sw.Tile(id_, title, inputs=[''])"
   ]
  },
  {
   "cell_type": "code",
   "execution_count": null,
   "metadata": {},
   "outputs": [],
   "source": [
    "#defin a custom function \n",
    "\n",
    "def process_start (widget, event, data, output):\n",
    "    \n",
    "    widget.toggle_loading()\n",
    "\n",
    "    #check inputs\n",
    "    if not output.check_input(ma_aoi_io.assetId, ms.NO_AOI): return widget.toggle_loading()\n",
    "    if not output.check_input(ma_alert_io.alert, ms.NO_YEAR): return widget.toggle_loading()\n",
    "    \n",
    "    try:\n",
    "        stats_link = sp.sepal_process(ma_aoi_io, ma_alert_io, output)\n",
    "        \n",
    "        if stats_link:\n",
    "            #display the layout in the tile\n",
    "            layout = sp.display_results(ma_aoi_io, ma_alert_io, output, stats_link)\n",
    "            ma_results.set_content(layout)\n",
    "    \n",
    "    except Exception as e: \n",
    "        output.add_live_msg(str(e), 'error')\n",
    "    \n",
    "    widget.toggle_loading()\n",
    "    \n",
    "    return \n",
    "\n",
    "ma_sepal_btn.on_event('click', partial(process_start, output = ma_sepal_output))"
   ]
  },
  {
   "cell_type": "code",
   "execution_count": null,
   "metadata": {},
   "outputs": [],
   "source": [
    "ma_sepal"
   ]
  },
  {
   "cell_type": "code",
   "execution_count": null,
   "metadata": {},
   "outputs": [],
   "source": [
    "ma_results"
   ]
  }
 ],
 "metadata": {
  "kernelspec": {
   "display_name": "Python 3",
   "language": "python",
   "name": "python3"
  },
  "language_info": {
   "codemirror_mode": {
    "name": "ipython",
    "version": 3
   },
   "file_extension": ".py",
   "mimetype": "text/x-python",
   "name": "python",
   "nbconvert_exporter": "python",
   "pygments_lexer": "ipython3",
   "version": "3.6.9"
  }
 },
 "nbformat": 4,
 "nbformat_minor": 4
}
