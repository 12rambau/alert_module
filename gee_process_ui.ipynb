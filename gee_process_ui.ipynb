{
 "cells": [
  {
   "cell_type": "code",
   "execution_count": 1,
   "metadata": {},
   "outputs": [],
   "source": [
    "from functools import partial \n",
    "\n",
    "from sepal_ui import widgetFactory as wf\n",
    "from sepal_ui import widgetBinding as wb\n",
    "from sepal_ui.scripts import utils as su\n",
    "import ipyvuetify as v\n",
    "\n",
    "from scripts import gee_process as gee_run \n",
    "from utils import messages as ms\n",
    "from utils import parameters as pm"
   ]
  },
  {
   "cell_type": "code",
   "execution_count": 2,
   "metadata": {},
   "outputs": [],
   "source": [
    "#class io as mutable object \n",
    "class Ga_gee_io:\n",
    "    def __init__(self):\n",
    "        #input \n",
    "        self.year = None\n",
    "        \n",
    "ga_gee_io = Ga_gee_io()"
   ]
  },
  {
   "cell_type": "code",
   "execution_count": 3,
   "metadata": {},
   "outputs": [],
   "source": [
    "#output \n",
    "ga_gee_output = wf.OutputWidget(ms.GEE_INTRO)\n",
    "\n",
    "#btn \n",
    "ga_gee_btn = wf.ProcessBtn(ms.GEE_BTN)\n",
    "\n",
    "#input \n",
    "ga_year = v.Select(items=pm.getAvailableYear(), label=ms.GEE_SELECT, v_model=None)\n",
    "\n",
    "#bind the inputs\n",
    "wb.bind(ga_year, ga_gee_io, 'year', ga_gee_output)\n",
    "\n",
    "#tile\n",
    "id_ = 'gee_widget'\n",
    "title = 'Retrieve alerts'\n",
    "\n",
    "ga_gee = wf.Tile(\n",
    "    id_,\n",
    "    title,\n",
    "    btn=ga_gee_btn,\n",
    "    output=ga_gee_output,\n",
    "    inputs=[ga_year]\n",
    ")"
   ]
  },
  {
   "cell_type": "code",
   "execution_count": 4,
   "metadata": {},
   "outputs": [],
   "source": [
    "#create a custom function for the process\n",
    "def process_start(widget, event, data, output):\n",
    "    \n",
    "    asset = getattr(ga_aoi_io, 'assetId')\n",
    "    year = getattr(ga_gee_io, 'year')\n",
    "    \n",
    "    #toggle the loading button\n",
    "    su.toggleLoading(widget)\n",
    "    \n",
    "    su.displayIO(output, asset)\n",
    "    \n",
    "    #check inputs\n",
    "    if not wb.checkInput(asset, output, ms.NO_AOI): return su.toggleLoading(widget)\n",
    "    if not wb.checkInput(year, output, ms.NO_YEAR): return su.toggleLoading(widget)\n",
    "    \n",
    "    try:\n",
    "        gee_run.gee_process(asset, year, output) \n",
    "    except Exception as e: \n",
    "        su.displayIO(output, str(e), 'error')\n",
    "    \n",
    "    #toggle the loading button\n",
    "    su.toggleLoading(widget)\n",
    "    \n",
    "    return \n",
    "\n",
    "ga_gee_btn.on_event('click', partial(\n",
    "    process_start,\n",
    "    output=ga_gee_output,\n",
    "))\n",
    "    "
   ]
  },
  {
   "cell_type": "code",
   "execution_count": 5,
   "metadata": {},
   "outputs": [
    {
     "data": {
      "application/vnd.jupyter.widget-view+json": {
       "model_id": "ae4dfef000174e13bceaa67ca1ae4f77",
       "version_major": 2,
       "version_minor": 0
      },
      "text/plain": [
       "Layout(align_center=True, children=[Card(children=[Html(children=['Retrieve alerts'], tag='h2'), Flex(children…"
      ]
     },
     "metadata": {},
     "output_type": "display_data"
    }
   ],
   "source": [
    "ga_gee"
   ]
  }
 ],
 "metadata": {
  "kernelspec": {
   "display_name": "Python 3",
   "language": "python",
   "name": "python3"
  },
  "language_info": {
   "codemirror_mode": {
    "name": "ipython",
    "version": 3
   },
   "file_extension": ".py",
   "mimetype": "text/x-python",
   "name": "python",
   "nbconvert_exporter": "python",
   "pygments_lexer": "ipython3",
   "version": "3.6.9"
  }
 },
 "nbformat": 4,
 "nbformat_minor": 4
}
