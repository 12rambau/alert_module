{
 "cells": [
  {
   "cell_type": "code",
   "execution_count": null,
   "metadata": {},
   "outputs": [],
   "source": [
    "import ipyvuetify as v\n",
    "import ipywidgets as widgets\n",
    "from utils import utils\n",
    "from scripts import run_sepal_process\n",
    "from scripts import results\n",
    "import matplotlib.pyplot as plt\n"
   ]
  },
  {
   "cell_type": "code",
   "execution_count": null,
   "metadata": {},
   "outputs": [],
   "source": [
    "#for testing \n",
    "#year = '2019'\n",
    "#asset_name = \"users/bornToBeAlive/Glad_Singapore\""
   ]
  },
  {
   "cell_type": "code",
   "execution_count": null,
   "metadata": {
    "scrolled": false
   },
   "outputs": [],
   "source": [
    "sepal_process_output = v.Alert(children=[''], type='info', text=True, class_=\"mt-5\")\n",
    "#widget_alert\n",
    "#fig = plt.figure('results')\n",
    "sepal_process_result = v.Flex(xs12=True, class_='pa-0', children=['no result yet'])"
   ]
  },
  {
   "cell_type": "code",
   "execution_count": null,
   "metadata": {},
   "outputs": [],
   "source": [
    "#Messages\n",
    "NO_INPUT = \"No input have been selected, provide them through step 1.\""
   ]
  },
  {
   "cell_type": "code",
   "execution_count": null,
   "metadata": {},
   "outputs": [],
   "source": [
    "#validate the selected data\n",
    "\n",
    "sepal_process_btn = v.Btn(\n",
    "    color='primary', \n",
    "    children=[\n",
    "        v.Icon(left=True, children=['mdi-cogs']),\n",
    "        'Run SEPAL process'\n",
    "    ]\n",
    ")\n",
    "sepal_validate_data = v.Container(children=[sepal_process_btn])\n",
    "\n",
    "def sepal_on_click(widget, event, data):\n",
    "    \n",
    "    global asset_name\n",
    "    global year\n",
    "    global sepal_process_output\n",
    "    global sepal_process_result\n",
    "    \n",
    "    if asset_name == None or year == None:\n",
    "        utils.displayIO(sepal_process_output, 'error', NO_INPUT)\n",
    "        return \n",
    "    \n",
    "    #do something \n",
    "    utils.toggleLoading(sepal_process_btn)\n",
    "    run_sepal_process.run_sepal_process(asset_name, year, sepal_process_output)\n",
    "    utils.toggleLoading(sepal_process_btn) \n",
    "    \n",
    "    #display the map\n",
    "    figure = results.display_graph(asset_name, year)\n",
    "    sepal_process_result.children = [figure]\n",
    "\n",
    "sepal_validate_data.on_event('click', sepal_on_click)\n",
    "#widget_validate_data"
   ]
  },
  {
   "cell_type": "code",
   "execution_count": null,
   "metadata": {
    "scrolled": false
   },
   "outputs": [],
   "source": [
    "#create the display \n",
    "inputs = v.Layout(\n",
    "    _metadata={'mount-id': 'data-input'},\n",
    "    row=True,\n",
    "    class_=\"pa-5\",\n",
    "    align_center=True, \n",
    "    children=[\n",
    "        v.Flex(xs12=True, children=[sepal_validate_data]),\n",
    "        v.Flex(xs12=True, children=[sepal_process_output])\n",
    "    ]\n",
    ")\n",
    "#inputs\n",
    "\n",
    "SEPAL_content_main =  v.Layout(\n",
    "    _metadata={'mount_id': 'widget_sepal_process'},\n",
    "    Row=True,\n",
    "    xs12=True,\n",
    "    align_center=True, \n",
    "    class_=\"ma-5\",\n",
    "    children=[\n",
    "        v.Card( \n",
    "            class_=\"pa-5\",\n",
    "            raised=True,\n",
    "            xs12=True,\n",
    "            children=[\n",
    "                v.Html(xs12=True, tag='h2', children=['Run the SEPAL process']),\n",
    "                v.Flex(xs12=True, children=[inputs]),   \n",
    "            ]\n",
    "        ) \n",
    "    ]\n",
    ")\n",
    "\n",
    "SEPAL_results = v.Layout(\n",
    "    _metadata={'mount_id': 'widget_result'},\n",
    "    Row=True,\n",
    "    xs12=True,\n",
    "    align_center=True,\n",
    "    class_=\"ma-5\",\n",
    "    children=[\n",
    "        v.Card( \n",
    "            class_=\"pa-5\",\n",
    "            raised=True,\n",
    "            xs12=True,\n",
    "            children=[\n",
    "                v.Html(xs12=True, tag='h2', children=['data Result']),\n",
    "                sepal_process_result  \n",
    "            ]\n",
    "        )\n",
    "    ]\n",
    ")\n",
    "SEPAL_content_main\n",
    "SEPAL_results"
   ]
  }
 ],
 "metadata": {
  "kernelspec": {
   "display_name": "Python 3",
   "language": "python",
   "name": "python3"
  },
  "language_info": {
   "codemirror_mode": {
    "name": "ipython",
    "version": 3
   },
   "file_extension": ".py",
   "mimetype": "text/x-python",
   "name": "python",
   "nbconvert_exporter": "python",
   "pygments_lexer": "ipython3",
   "version": "3.6.9"
  }
 },
 "nbformat": 4,
 "nbformat_minor": 4
}
