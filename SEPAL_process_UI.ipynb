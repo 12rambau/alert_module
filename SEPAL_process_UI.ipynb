{
 "cells": [
  {
   "cell_type": "code",
   "execution_count": null,
   "metadata": {},
   "outputs": [],
   "source": [
    "import ipyvuetify as v\n",
    "import ipywidgets as widgets\n",
    "from utils import utils\n",
    "from scripts import run_sepal_process\n",
    "from scripts import results\n",
    "import matplotlib.pyplot as plt\n"
   ]
  },
  {
   "cell_type": "code",
   "execution_count": null,
   "metadata": {},
   "outputs": [],
   "source": [
    "#for testing \n",
    "#year = '2020'\n",
    "#asset_name = \"users/bornToBeAlive/aoi_SN\""
   ]
  },
  {
   "cell_type": "code",
   "execution_count": null,
   "metadata": {},
   "outputs": [],
   "source": [
    "#Messages\n",
    "NO_INPUT = \"No input have been selected, provide them through step 1.\"\n",
    "SEPAL_MESSAGE = 'click on \"Run Postprocessing\" to launch the process on your SEPAL account'"
   ]
  },
  {
   "cell_type": "code",
   "execution_count": null,
   "metadata": {
    "scrolled": false
   },
   "outputs": [],
   "source": [
    "#alerts\n",
    "sepal_process_output = v.Alert(children=[SEPAL_MESSAGE], type='info', text=True, class_=\"mt-5\")"
   ]
  },
  {
   "cell_type": "code",
   "execution_count": null,
   "metadata": {},
   "outputs": [],
   "source": [
    "#result map \n",
    "from scripts import mapping\n",
    "\n",
    "m_result = mapping.init_result_map()"
   ]
  },
  {
   "cell_type": "code",
   "execution_count": null,
   "metadata": {},
   "outputs": [],
   "source": [
    "#results\n",
    "\n",
    "sepal_process_hist = v.Flex(xs12=True, lg6=True, class_='pa-0', children=['no result yet'])\n",
    "sepal_process_result = v.Layout(\n",
    "    Row=True,\n",
    "    xs12=True, \n",
    "    align_center=True,\n",
    "    class_='pa-0 mt-5', \n",
    "    children=[\n",
    "        sepal_process_hist,\n",
    "        v.Flex(xs12=True, lg6=True, class_='pa-0', children=[m_result])\n",
    "    ]\n",
    ")"
   ]
  },
  {
   "cell_type": "code",
   "execution_count": null,
   "metadata": {},
   "outputs": [],
   "source": [
    "def create_download_btn(text, url=\"#\"):\n",
    "    return v.Btn(\n",
    "        class_='ma-2',\n",
    "        xs5=True,\n",
    "        color='primary',\n",
    "        href=url,\n",
    "        children=[\n",
    "            v.Icon(left=True, children=['mdi-download']),\n",
    "            text\n",
    "        ]\n",
    "    )\n",
    "\n",
    "sepal_download_csv = create_download_btn('Download .csv distribution')\n",
    "sepal_download_tif = create_download_btn('Download .tif alerts tile')\n",
    "sepal_download_hist = create_download_btn('Download hist in .png')"
   ]
  },
  {
   "cell_type": "code",
   "execution_count": null,
   "metadata": {},
   "outputs": [],
   "source": [
    "#validate the selected data\n",
    "\n",
    "sepal_process_btn = v.Btn(\n",
    "    color='primary', \n",
    "    children=[\n",
    "        v.Icon(left=True, children=['mdi-cogs']),\n",
    "        'Run Postprocessing'\n",
    "    ]\n",
    ")\n",
    "\n",
    "def sepal_on_click(widget, event, data):\n",
    "    \n",
    "    global asset_name\n",
    "    global year\n",
    "    global sepal_process_output\n",
    "    global sepal_process_result\n",
    "    \n",
    "    if asset_name == None or year == None:\n",
    "        utils.displayIO(sepal_process_output, 'error', NO_INPUT)\n",
    "        return \n",
    "    \n",
    "    utils.toggleLoading(sepal_process_btn)\n",
    "    #run the process\n",
    "    alerts_link, stats_link = run_sepal_process.run_sepal_process(asset_name, year, sepal_process_output)\n",
    "    #display the graph\n",
    "    figure, png_link, dist_link = results.display_results(asset_name, year)\n",
    "    sepal_process_hist.children = [figure]\n",
    "    results.display_alerts(asset_name, year, m_result)\n",
    "    utils.toggleLoading(sepal_process_btn) \n",
    "    \n",
    "    #edit the download links \n",
    "    sepal_download_tif.href= alerts_link\n",
    "    sepal_download_csv.href= dist_link\n",
    "    sepal_download_hist.href = png_link\n",
    "\n",
    "sepal_process_btn.on_event('click', sepal_on_click)"
   ]
  },
  {
   "cell_type": "code",
   "execution_count": null,
   "metadata": {
    "scrolled": false
   },
   "outputs": [],
   "source": [
    "#create the display \n",
    "inputs = v.Layout(\n",
    "    _metadata={'mount-id': 'data-input'},\n",
    "    row=True,\n",
    "    class_=\"pa-5\",\n",
    "    align_center=True, \n",
    "    children=[\n",
    "        v.Flex(xs12=True, children=[sepal_process_btn]),\n",
    "        v.Flex(xs12=True, children=[sepal_process_output])\n",
    "    ]\n",
    ")\n",
    "\n",
    "SEPAL_content_main =  v.Layout(\n",
    "    _metadata={'mount_id': 'widget_sepal_process'},\n",
    "    Row=True,\n",
    "    xs12=True,\n",
    "    align_center=True, \n",
    "    class_=\"ma-5 d-none\",\n",
    "    children=[\n",
    "        v.Card( \n",
    "            class_=\"pa-5\",\n",
    "            raised=True,\n",
    "            xs12=True,\n",
    "            children=[\n",
    "                v.Html(xs12=True, tag='h2', children=['Step 3: Postprocess']),\n",
    "                v.Flex(xs12=True, children=[inputs]),   \n",
    "            ]\n",
    "        ) \n",
    "    ]\n",
    ")\n",
    "\n",
    "SEPAL_results = v.Layout(\n",
    "    _metadata={'mount_id': 'widget_result'},\n",
    "    Row=True,\n",
    "    xs12=True,\n",
    "    align_center=True,\n",
    "    class_=\"ma-5 d-none\",\n",
    "    children=[\n",
    "        v.Card( \n",
    "            class_=\"pa-5\",\n",
    "            raised=True,\n",
    "            xs12=True,\n",
    "            children=[\n",
    "                v.Html(xs12=True, tag='h2', children=['Results']),\n",
    "                v.Layout(Row=True, xs12=True, children=[\n",
    "                    sepal_download_csv,\n",
    "                    sepal_download_tif,\n",
    "                    sepal_download_hist\n",
    "                ]),\n",
    "                sepal_process_result  \n",
    "            ]\n",
    "        )\n",
    "    ]\n",
    ")\n",
    "#SEPAL_content_main.class_='ma-5 d-inline' #for debugging\n",
    "#SEPAL_results.class_='ma-5 d-inline' #for debugging\n",
    "SEPAL_results\n",
    "SEPAL_content_main"
   ]
  },
  {
   "cell_type": "code",
   "execution_count": null,
   "metadata": {},
   "outputs": [],
   "source": []
  }
 ],
 "metadata": {
  "kernelspec": {
   "display_name": "Python 3",
   "language": "python",
   "name": "python3"
  },
  "language_info": {
   "codemirror_mode": {
    "name": "ipython",
    "version": 3
   },
   "file_extension": ".py",
   "mimetype": "text/x-python",
   "name": "python",
   "nbconvert_exporter": "python",
   "pygments_lexer": "ipython3",
   "version": "3.6.9"
  }
 },
 "nbformat": 4,
 "nbformat_minor": 4
}
